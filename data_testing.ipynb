{
 "cells": [
  {
   "cell_type": "code",
   "execution_count": 1,
   "id": "5737b96f",
   "metadata": {},
   "outputs": [],
   "source": [
    "import pandas as pd\n",
    "import numpy as np\n",
    "from difflib import get_close_matches\n",
    "from datetime import datetime\n",
    "from os import listdir\n",
    "from bs4 import BeautifulSoup\n",
    "import quopri\n",
    "import re"
   ]
  },
  {
   "cell_type": "markdown",
   "id": "07bd5c1e",
   "metadata": {},
   "source": [
    "# Historical Standard Deviation"
   ]
  },
  {
   "cell_type": "code",
   "execution_count": 37,
   "id": "bdd76226",
   "metadata": {},
   "outputs": [],
   "source": [
    "historical = pd.read_csv(\"./data/linestar_data.csv\")\n",
    "stds = historical.groupby(\"Name\").std()[\"Scored\"]\n",
    "\n",
    "fill_std = stds.mean()\n",
    "\n",
    "stds = stds.replace(np.nan, fill_std)\n",
    "stds.name = \"Scored_Std\""
   ]
  },
  {
   "cell_type": "code",
   "execution_count": 38,
   "id": "db0b30d4",
   "metadata": {},
   "outputs": [],
   "source": [
    "stds.to_csv(\"./data/stds.csv\")"
   ]
  },
  {
   "cell_type": "markdown",
   "id": "b3392cb1",
   "metadata": {},
   "source": [
    "# Slate Data"
   ]
  },
  {
   "cell_type": "code",
   "execution_count": 2,
   "id": "52377957",
   "metadata": {},
   "outputs": [],
   "source": [
    "name_pattern = re.compile(r\"\\([^()]*\\)\")\n",
    "team_pattern = re.compile(r\"[\\$,]\")\n",
    "\n",
    "def linestar_proj():\n",
    "    html = open(\"./data/proj.mhtml\", \"r\")\n",
    "    html = quopri.decodestring(html.read())\n",
    "    soup = BeautifulSoup(html, features=\"html.parser\")\n",
    "    \n",
    "    table = soup.find_all(\"table\")[0]\n",
    "    \n",
    "    # Find column index numbers for columns we want\n",
    "    # This is to avoid issues when columns change between before games and after games\n",
    "    header_idx = {\"Player\": None, \"Salary\": None, \"Consensus\": None, \"Order\": None, \"pOwn\": None}\n",
    "    # Ignore first columns that have filters etcetera\n",
    "    for num, header in enumerate(table.find_all(\"th\")[2:]):\n",
    "        if header.text in header_idx.keys():\n",
    "            # Position column always in front, so add 1 to index value\n",
    "            header_idx[header.text] = num + 1\n",
    "    \n",
    "    data = []\n",
    "    rows = table.find_all(\"tr\", class_=\"playerCardRow\")\n",
    "    for row in rows:\n",
    "        # Ignore first 4 columns that have checkboxes and other things\n",
    "        cells = row.find_all(\"td\")[4:]\n",
    "        try:\n",
    "            player_data = {\"Position\": cells[0].text,\n",
    "                           \"Player\": name_pattern.sub(\"\",\n",
    "                                                      cells[header_idx[\"Player\"]].find(class_=\"playername\").text\n",
    "                                                     ).rstrip(),\n",
    "                           \"Team\": cells[header_idx[\"Player\"]].find(class_=\"playerTeam\").text[2:],\n",
    "                           \"Salary\": int(team_pattern.sub(\"\", cells[header_idx[\"Salary\"]].text)),\n",
    "                           \"Consensus\": float(cells[header_idx[\"Consensus\"]].text),\n",
    "                           \"Order\": int(cells[header_idx[\"Order\"]].text.replace(\"-\", \"0\")),\n",
    "                           \"pOwn\": float(cells[header_idx[\"pOwn\"]].text.replace(\"%\", \"\")) / 100\n",
    "                          }\n",
    "        except:\n",
    "            print(cells)\n",
    "            raise ValueError\n",
    "        data.append(player_data)\n",
    "    return pd.DataFrame(data)"
   ]
  },
  {
   "cell_type": "code",
   "execution_count": 3,
   "id": "2d9d2f45",
   "metadata": {},
   "outputs": [],
   "source": [
    "def opp_pitcher(x):\n",
    "    # If player is pitcher, return nothing\n",
    "    if x[\"Position\"] == \"P\":\n",
    "        return np.nan\n",
    "\n",
    "    series = slate.loc[\n",
    "        (slate[\"Team\"] == x[\"Opponent\"]) & (slate[\"Position\"] == \"P\"), \"Id\"\n",
    "    ]\n",
    "    if len(series) == 0:\n",
    "        return np.nan\n",
    "    if len(series) > 1:\n",
    "        raise ValueError(\"Multiple Opposing Pitchers identified. Data Issues.\")\n",
    "    else:\n",
    "        return series.iloc[0]"
   ]
  },
  {
   "cell_type": "code",
   "execution_count": 4,
   "id": "72c49f08",
   "metadata": {},
   "outputs": [],
   "source": [
    "def close_matches(x, possible):\n",
    "    matches = get_close_matches(x, possible)\n",
    "    if matches:\n",
    "        return matches[0]\n",
    "    else:\n",
    "        return np.nan"
   ]
  },
  {
   "cell_type": "code",
   "execution_count": 80,
   "id": "76f88e60",
   "metadata": {},
   "outputs": [],
   "source": [
    "# TheDailyAverage Slate\n",
    "slate = pd.read_csv(\"./data/slate.csv\")\n",
    "\n",
    "proj = pd.concat([pd.read_csv(\"./data/proj_1.csv\"), pd.read_csv(\"./data/proj_2.csv\")])\n",
    "# Find closest name matches from slate\n",
    "proj[\"Player\"] = proj[\"Player\"].apply(lambda x: close_matches(x, slate[\"Nickname\"]))\n",
    "# Sometimes salary contains commas\n",
    "proj[\"Salary\"] = proj[\"Salary\"].str.replace(\",\", \"\")\n",
    "proj[\"Salary\"] = proj[\"Salary\"].astype(int)\n",
    "# Sometimes data is duplicated\n",
    "proj = proj.drop_duplicates(subset=[\"Player\", \"Pos\", \"Salary\"])\n",
    "# Merge projections with slated players\n",
    "slate = slate.merge(\n",
    "    proj,\n",
    "    left_on=[\"Nickname\", \"Position\", \"Salary\"],\n",
    "    right_on=[\"Player\", \"Pos\", \"Salary\"],\n",
    "    how=\"left\",\n",
    ")\n",
    "\n",
    "# Get historical points scored standard deviation for players\n",
    "stds = pd.read_csv(\"./data/stds.csv\")\n",
    "stds[\"Name\"] = stds[\"Name\"].apply(lambda x: close_matches(x, slate[\"Nickname\"]))\n",
    "# Merge stds to slate\n",
    "slate = slate.merge(stds, left_on=\"Nickname\", right_on=\"Name\", how=\"left\")\n",
    "# Set any unfilled player standard deviations to the mean value\n",
    "slate[\"Scored_Std\"] = slate[\"Scored_Std\"].replace(np.nan, slate[\"Scored_Std\"].mean())\n",
    "\n",
    "# Drop duplicate rows before adjusting position column\n",
    "slate = slate.drop_duplicates(subset=[\"Nickname\", \"Position\", \"Team\"])\n",
    "# Drop all pitchers that are not starting\n",
    "slate = slate.drop(slate[(slate[\"Position\"] == \"P\") & (slate[\"Probable Pitcher\"].isna())].index)\n",
    "# BIG ASSUMPTION: assume player fills only first position listed.\n",
    "# Because of the UTIL slot, I assume this has only minimal impact\n",
    "# upon optimality\n",
    "slate[\"Position\"] = slate[\"Position\"].str.split(\"/\", expand=True)[0]\n",
    "# C and 1B players can fill the C/1B slot\n",
    "slate[\"Position\"] = slate[\"Position\"].replace({\"C\": \"C/1B\", \"1B\": \"C/1B\"})\n",
    "# Batting order is 0 for pitchers or for non-starting players\n",
    "slate[\"Batting Order\"] = slate[\"Batting Order\"].replace(np.nan, 0)\n",
    "slate[\"Batting Order\"] = slate[\"Batting Order\"].astype(int)\n",
    "# Opposing Pitcher for each player\n",
    "slate[\"Opp_Pitcher\"] = slate.apply(opp_pitcher, axis=1)\n",
    "# Only care about players with positive projections\n",
    "slate = slate[slate[\"Proj\"] > 0]\n",
    "\n",
    "# Select relevant columns and rename\n",
    "slate = slate[[\"Nickname\", \"Position\", \"Salary\", \"Game\", \"Team\", \"Opponent\", \"Batting Order\", \"Opp_Pitcher\", \"Proj\", \"Scored_Std\"]]\n",
    "slate.columns = [\"Name\", \"Position\", \"Salary\", \"Game\", \"Team\", \"Opponent\", \"Order\", \"Opp_Pitcher\", \"Projection\", \"Std\"]\n",
    "\n",
    "# Write to csv with todays date\n",
    "slate.to_csv(f\"./data/slate_{datetime.today().strftime('%Y-%m-%d')}.csv\", index=False)"
   ]
  },
  {
   "cell_type": "code",
   "execution_count": 16,
   "id": "5e2427ea",
   "metadata": {
    "scrolled": true
   },
   "outputs": [],
   "source": [
    "# Linestar Slate\n",
    "slate = pd.read_csv(\"./data/slate.csv\")\n",
    "\n",
    "proj = linestar_proj()\n",
    "proj[\"Player\"] = proj[\"Player\"].apply(lambda x: close_matches(x, slate[\"Nickname\"]))\n",
    "\n",
    "slate = slate.merge(proj,\n",
    "                    left_on=[\"Nickname\", \"Team\", \"Salary\", \"Position\"],\n",
    "                    right_on=[\"Player\", \"Team\", \"Salary\", \"Position\"],\n",
    "                    how=\"left\")\n",
    "\n",
    "# Get historical points scored standard deviation for players\n",
    "stds = pd.read_csv(\"./data/stds.csv\")\n",
    "stds[\"Name\"] = stds[\"Name\"].apply(lambda x: close_matches(x, slate[\"Nickname\"]))\n",
    "# Merge stds to slate\n",
    "slate = slate.merge(stds, left_on=\"Nickname\", right_on=\"Name\", how=\"left\")\n",
    "# Set any unfilled player standard deviations to the mean value\n",
    "slate[\"Scored_Std\"] = slate[\"Scored_Std\"].replace(np.nan, slate[\"Scored_Std\"].mean())\n",
    "\n",
    "# Drop duplicate rows before adjusting position column\n",
    "slate = slate.drop_duplicates(subset=[\"Nickname\", \"Position\", \"Team\"])\n",
    "slate = slate.dropna(subset=[\"Player\", \"Consensus\", \"Order\"])\n",
    "# Drop all pitchers that are not starting\n",
    "slate = slate.drop(slate[(slate[\"Position\"] == \"P\") & (slate[\"Probable Pitcher\"].isna())].index)\n",
    "# BIG ASSUMPTION: assume player fills only first position listed.\n",
    "# Because of the UTIL slot, I assume this has only minimal impact\n",
    "# upon optimality\n",
    "slate[\"Position\"] = slate[\"Position\"].str.split(\"/\", expand=True)[0]\n",
    "# C and 1B players can fill the C/1B slot\n",
    "slate[\"Position\"] = slate[\"Position\"].replace({\"C\": \"C/1B\", \"1B\": \"C/1B\"})\n",
    "slate[\"Order\"] = slate[\"Order\"].astype(int)\n",
    "# Drop batters who aren't starting\n",
    "slate = slate.drop(slate[(slate[\"Order\"] == 0) & (slate[\"Position\"] != \"P\")].index)\n",
    "# Drop batters with injuries\n",
    "slate = slate[slate[\"Injury Indicator\"].isna()]\n",
    "# Opposing Pitcher for each player\n",
    "slate[\"Opp_Pitcher\"] = slate.apply(opp_pitcher, axis=1)\n",
    "# Sometimes teams dont have a probable pitcher listed, so drop when teams don't\n",
    "# have an opposing pitcher\n",
    "slate = slate.drop(slate[(slate[\"Position\"] != \"P\") & (slate[\"Opp_Pitcher\"].isna())].index)\n",
    "# Only care about players with positive projections\n",
    "slate = slate[slate[\"Consensus\"] > 0]\n",
    "\n",
    "slate = slate[[\"Nickname\", \"Id\", \"Position\", \"Salary\", \"Game\", \"Team\", \"Opponent\", \"Order\", \"Opp_Pitcher\", \"Consensus\", \"pOwn\", \"Scored_Std\"]]\n",
    "slate.columns = [\"Name\", \"ID\", \"Position\", \"Salary\", \"Game\", \"Team\", \"Opponent\", \"Order\", \"Opp_Pitcher\", \"Projection\", \"Proj_Ownership\", \"Hist_Std\"]\n",
    "\n",
    "# Write to csv with todays date\n",
    "slate.to_csv(f\"./data/slate_{datetime.today().strftime('%Y-%m-%d')}.csv\", index=False)"
   ]
  },
  {
   "cell_type": "markdown",
   "id": "02c4858d",
   "metadata": {},
   "source": [
    "# Correlation"
   ]
  },
  {
   "cell_type": "code",
   "execution_count": 2,
   "id": "0eb793dd",
   "metadata": {},
   "outputs": [],
   "source": [
    "historical = pd.read_csv(\"./data/linestar_data.csv\")\n",
    "historical[\"Opposing Pitcher\"] = historical.loc[historical[\"Position\"] != \"P\", \"Opponent\"].str.split(\n",
    "    \",\", expand=True\n",
    ")[0]\n",
    "\n",
    "batters = historical[historical[\"Position\"] != \"P\"]\n",
    "order_scored = batters.groupby([\"Date\", \"Team\", \"Order\"]).sum()[\"Scored\"]\n",
    "batters_corr = order_scored.unstack().corr()\n",
    "\n",
    "pitchers = historical[historical[\"Position\"] == \"P\"]\n",
    "batters = batters.merge(\n",
    "    pitchers[[\"Name\", \"Date\", \"Scored\"]],\n",
    "    left_on=[\"Date\", \"Opposing Pitcher\"],\n",
    "    right_on=[\"Date\", \"Name\"],\n",
    "    how=\"left\",\n",
    "    suffixes=[None, \" Opposing\"],\n",
    ")\n",
    "pitchers_corr = batters[[\"Scored\", \"Scored Opposing\"]].corr()\n",
    "pitchers_corr = pitchers_corr.loc[\"Scored\", \"Scored Opposing\"]"
   ]
  },
  {
   "cell_type": "code",
   "execution_count": 3,
   "id": "517c76bf",
   "metadata": {},
   "outputs": [],
   "source": [
    "#slate = pd.read_csv(\"./data/TEST_SLATE.csv\")\n",
    "slate = pd.read_csv(\"./data/slate_2022-06-13.csv\")\n",
    "\n",
    "corr = pd.DataFrame(columns=slate[\"ID\"], index=slate[\"ID\"], dtype=float)\n",
    "\n",
    "for row in slate.itertuples():\n",
    "    # Correlation with themselves is 1\n",
    "    corr.loc[row.ID, row.ID] = 1\n",
    "\n",
    "    # If pitcher, set correlation to everyone else to 0\n",
    "    if row.Position == \"P\":\n",
    "        corr.loc[row.ID, corr.columns != row.ID] = 0\n",
    "\n",
    "    else:\n",
    "        # Setting correlation to other batters on the same team according to\n",
    "        # batting order\n",
    "        for teammate in slate.loc[slate[\"Team\"] == row.Team, :].itertuples():\n",
    "            # If the teammate is the pitcher, then 0 correlation\n",
    "            if teammate.Position == \"P\":\n",
    "                corr.loc[row.ID, teammate.ID] = 0\n",
    "                corr.loc[teammate.ID, row.ID] = 0\n",
    "            else:\n",
    "                order_corr = batters_corr.loc[row.Order, teammate.Order]\n",
    "                corr.loc[row.ID, teammate.ID] = order_corr\n",
    "                corr.loc[teammate.ID, row.ID] = order_corr\n",
    "\n",
    "        # Set correlation to opposing pitcher\n",
    "        corr.loc[row.ID, row.Opp_Pitcher] = pitchers_corr\n",
    "        corr.loc[row.Opp_Pitcher, row.ID] = pitchers_corr\n",
    "        # Correlations with every other Name is 0\n",
    "        corr.loc[row.ID, corr.loc[row.ID].isna()] = 0"
   ]
  },
  {
   "cell_type": "code",
   "execution_count": 4,
   "id": "49c5bc5a",
   "metadata": {},
   "outputs": [],
   "source": [
    "if not np.array_equal(corr, corr.T) & np.all(np.linalg.eigvals(corr) >= 0):\n",
    "    raise ValueError(\"Correlation matrix not positive semi-definite\")"
   ]
  },
  {
   "cell_type": "code",
   "execution_count": 5,
   "id": "273e69db",
   "metadata": {},
   "outputs": [],
   "source": [
    "corr.to_csv(\"./data/TEST_SLATE_corr.csv\", index=False, header=False)"
   ]
  },
  {
   "cell_type": "markdown",
   "id": "86515330",
   "metadata": {},
   "source": [
    "# Batting Stacks"
   ]
  },
  {
   "cell_type": "code",
   "execution_count": 10,
   "id": "bdcff19c",
   "metadata": {},
   "outputs": [],
   "source": [
    "data = pd.read_csv(\"./data/linestar_data.csv\")"
   ]
  },
  {
   "cell_type": "code",
   "execution_count": 117,
   "id": "fb75e0e4",
   "metadata": {},
   "outputs": [],
   "source": [
    "order = np.array(range(1, 10))\n",
    "\n",
    "stacks = []\n",
    "for x in range(9):\n",
    "    stacks.append(np.roll(order, x)[:4])"
   ]
  },
  {
   "cell_type": "code",
   "execution_count": 118,
   "id": "710d4db6",
   "metadata": {},
   "outputs": [],
   "source": [
    "stack_scores = {str(stack): [] for stack in stacks}"
   ]
  },
  {
   "cell_type": "code",
   "execution_count": 129,
   "id": "e2be8626",
   "metadata": {},
   "outputs": [],
   "source": [
    "def add_stack_scores(frame):\n",
    "    for stack in stacks:\n",
    "        try:\n",
    "            stack_score = 0\n",
    "            for order in stack:\n",
    "                stack_score += frame.loc[frame[\"Order\"] == order, \"Scored\"].iloc[0]\n",
    "        except:\n",
    "            continue\n",
    "        stack_scores[str(stack)].append(stack_score)\n",
    "    return \"DONE\""
   ]
  },
  {
   "cell_type": "code",
   "execution_count": 130,
   "id": "943efafd",
   "metadata": {},
   "outputs": [
    {
     "data": {
      "text/plain": [
       "Date        Team\n",
       "2021-06-01  ARI     DONE\n",
       "            ATL     DONE\n",
       "            BAL     DONE\n",
       "            BOS     DONE\n",
       "            CHC     DONE\n",
       "                    ... \n",
       "2022-05-24  SF      DONE\n",
       "            STL     DONE\n",
       "            TEX     DONE\n",
       "            TOR     DONE\n",
       "            WSH     DONE\n",
       "Length: 3012, dtype: object"
      ]
     },
     "execution_count": 130,
     "metadata": {},
     "output_type": "execute_result"
    }
   ],
   "source": [
    "data.groupby([\"Date\", \"Team\"]).apply(add_stack_scores)"
   ]
  },
  {
   "cell_type": "code",
   "execution_count": 131,
   "id": "44238b71",
   "metadata": {},
   "outputs": [
    {
     "data": {
      "text/plain": [
       "{'[1 2 3 4]': 42.23353892315386,\n",
       " '[9 1 2 3]': 37.05796505652621,\n",
       " '[8 9 1 2]': 33.807536650836255,\n",
       " '[7 8 9 1]': 31.471151465125875,\n",
       " '[6 7 8 9]': 29.412154354106477,\n",
       " '[5 6 7 8]': 33.28679973163367,\n",
       " '[4 5 6 7]': 35.88484140233722,\n",
       " '[3 4 5 6]': 38.70013324450366,\n",
       " '[2 3 4 5]': 40.5610657785179}"
      ]
     },
     "execution_count": 131,
     "metadata": {},
     "output_type": "execute_result"
    }
   ],
   "source": [
    "{stack: np.mean(scores) for stack, scores in stack_scores.items()}"
   ]
  },
  {
   "cell_type": "code",
   "execution_count": 132,
   "id": "ef3a45f5",
   "metadata": {},
   "outputs": [
    {
     "data": {
      "text/plain": [
       "{'[1 2 3 4]': 24.97278155575016,\n",
       " '[9 1 2 3]': 22.953305269307837,\n",
       " '[8 9 1 2]': 21.729417981269467,\n",
       " '[7 8 9 1]': 21.031638151550823,\n",
       " '[6 7 8 9]': 20.122761981252374,\n",
       " '[5 6 7 8]': 22.06418069248909,\n",
       " '[4 5 6 7]': 22.884343977167685,\n",
       " '[3 4 5 6]': 23.757624323710544,\n",
       " '[2 3 4 5]': 24.642707650125658}"
      ]
     },
     "execution_count": 132,
     "metadata": {},
     "output_type": "execute_result"
    }
   ],
   "source": [
    "{stack: np.std(scores) for stack, scores in stack_scores.items()}"
   ]
  },
  {
   "cell_type": "code",
   "execution_count": 133,
   "id": "3fdbdfea",
   "metadata": {
    "scrolled": true
   },
   "outputs": [
    {
     "data": {
      "text/plain": [
       "{'[1 2 3 4]': 5999,\n",
       " '[9 1 2 3]': 4865,\n",
       " '[8 9 1 2]': 4843,\n",
       " '[7 8 9 1]': 4846,\n",
       " '[6 7 8 9]': 4846,\n",
       " '[5 6 7 8]': 5962,\n",
       " '[4 5 6 7]': 5990,\n",
       " '[3 4 5 6]': 6004,\n",
       " '[2 3 4 5]': 6005}"
      ]
     },
     "execution_count": 133,
     "metadata": {},
     "output_type": "execute_result"
    }
   ],
   "source": [
    "{stack: len(scores) for stack, scores in stack_scores.items()}"
   ]
  },
  {
   "cell_type": "code",
   "execution_count": null,
   "id": "d272e401",
   "metadata": {},
   "outputs": [],
   "source": []
  }
 ],
 "metadata": {
  "kernelspec": {
   "display_name": "Python 3 (ipykernel)",
   "language": "python",
   "name": "python3"
  },
  "language_info": {
   "codemirror_mode": {
    "name": "ipython",
    "version": 3
   },
   "file_extension": ".py",
   "mimetype": "text/x-python",
   "name": "python",
   "nbconvert_exporter": "python",
   "pygments_lexer": "ipython3",
   "version": "3.9.12"
  }
 },
 "nbformat": 4,
 "nbformat_minor": 5
}
