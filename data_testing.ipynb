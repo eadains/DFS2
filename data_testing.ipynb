{
 "cells": [
  {
   "cell_type": "code",
   "execution_count": 1,
   "id": "5737b96f",
   "metadata": {},
   "outputs": [],
   "source": [
    "import pandas as pd\n",
    "import numpy as np\n",
    "from difflib import get_close_matches\n",
    "from datetime import datetime"
   ]
  },
  {
   "cell_type": "code",
   "execution_count": 3,
   "id": "9d143cdb",
   "metadata": {},
   "outputs": [],
   "source": [
    "test = pd.read_csv(\"./data/slate_2022-06-02.csv\")"
   ]
  },
  {
   "cell_type": "markdown",
   "id": "b3392cb1",
   "metadata": {},
   "source": [
    "# Slate Data"
   ]
  },
  {
   "cell_type": "code",
   "execution_count": 29,
   "id": "2d9d2f45",
   "metadata": {},
   "outputs": [],
   "source": [
    "def opp_pitcher(x):\n",
    "    # If player is pitcher, return nothing\n",
    "    if x[\"Position\"] == \"P\":\n",
    "        return np.nan\n",
    "\n",
    "    series = slate.loc[\n",
    "        (slate[\"Team\"] == x[\"Opponent\"]) & (slate[\"Position\"] == \"P\"), \"Player\"\n",
    "    ]\n",
    "    if len(series) == 0:\n",
    "        return np.nan\n",
    "    if len(series) > 1:\n",
    "        raise ValueError(\"Multiple Opposing Pitchers identified. Data Issues.\")\n",
    "    else:\n",
    "        return series.iloc[0]"
   ]
  },
  {
   "cell_type": "code",
   "execution_count": 30,
   "id": "72c49f08",
   "metadata": {},
   "outputs": [],
   "source": [
    "def close_matches(x, possible):\n",
    "    matches = get_close_matches(x, possible)\n",
    "    if matches:\n",
    "        return matches[0]\n",
    "    else:\n",
    "        return np.nan"
   ]
  },
  {
   "cell_type": "code",
   "execution_count": 42,
   "id": "76f88e60",
   "metadata": {},
   "outputs": [],
   "source": [
    "slate = pd.read_csv(\"./data/slate.csv\")\n",
    "\n",
    "proj = pd.concat([pd.read_csv(\"./data/proj_1.csv\"), pd.read_csv(\"./data/proj_2.csv\")])\n",
    "# Find closest name matches from slate\n",
    "proj[\"Player\"] = proj[\"Player\"].apply(lambda x: close_matches(x, slate[\"Nickname\"]))\n",
    "# Sometimes salary contains commas\n",
    "proj[\"Salary\"] = proj[\"Salary\"].str.replace(\",\", \"\")\n",
    "proj[\"Salary\"] = proj[\"Salary\"].astype(int)\n",
    "# Sometimes data is duplicated\n",
    "proj = proj.drop_duplicates(subset=[\"Player\", \"Pos\", \"Salary\"])\n",
    "proj = proj.dropna()\n",
    "\n",
    "# Merge projections with slated players\n",
    "slate = slate.merge(\n",
    "    proj,\n",
    "    left_on=[\"Nickname\", \"Position\", \"Salary\"],\n",
    "    right_on=[\"Player\", \"Pos\", \"Salary\"],\n",
    "    how=\"left\",\n",
    ")\n",
    "\n",
    "# Drop all pitchers that are not starting\n",
    "slate = slate.drop(slate.loc[(slate[\"Position\"] == \"P\") & (slate[\"Probable Pitcher\"].isna()), :].index)\n",
    "slate = slate.drop(slate[slate[\"Injury Details\"] == \"Postponed\"].index)\n",
    "# BIG ASSUMPTION: assume player fills only first position listed.\n",
    "# Because of the UTIL slot, I assume this has only minimal impact\n",
    "# upon optimality\n",
    "slate[\"Position\"] = slate[\"Position\"].str.split(\"/\", expand=True)[0]\n",
    "# C and 1B players can fill the C/1B slot\n",
    "slate[\"Position\"] = slate[\"Position\"].replace({\"C\": \"C/1B\", \"1B\": \"C/1B\"})\n",
    "# Pitchers have batting order 0\n",
    "# Non-starting players also have batting order 0\n",
    "slate[\"Batting Order\"] = slate[\"Batting Order\"].replace(np.nan, 0)\n",
    "slate[\"Batting Order\"] = slate[\"Batting Order\"].astype(int)\n",
    "# Opposing Pitcher for each player\n",
    "slate[\"Opp_Pitcher\"] = slate.apply(opp_pitcher, axis=1)\n",
    "# Drop players with 0 fantasy points projected\n",
    "slate = slate[slate[\"Proj\"] > 0]\n",
    "\n",
    "# Select relevant columns and rename\n",
    "slate = slate[[\"Player\", \"Position\", \"Salary\", \"Game\", \"Team\", \"Opponent\", \"Batting Order\", \"Opp_Pitcher\", \"Proj\"]]\n",
    "slate.columns = [\"Name\", \"Position\", \"Salary\", \"Game\", \"Team\", \"Opponent\", \"Order\", \"Opp_Pitcher\", \"Projection\"]\n",
    "\n",
    "# Write to csv with todays date\n",
    "slate.to_csv(f\"./data/slate_{datetime.today().strftime('%Y-%m-%d')}.csv\", index=False)"
   ]
  },
  {
   "cell_type": "markdown",
   "id": "02c4858d",
   "metadata": {},
   "source": [
    "# Covariance"
   ]
  },
  {
   "cell_type": "markdown",
   "id": "86515330",
   "metadata": {},
   "source": [
    "# Batting Stacks"
   ]
  },
  {
   "cell_type": "code",
   "execution_count": 49,
   "id": "9a7dac86",
   "metadata": {},
   "outputs": [
    {
     "data": {
      "text/plain": [
       "Index(['Id', 'Position', 'First Name', 'Nickname', 'Last Name', 'FPPG',\n",
       "       'Played', 'Salary', 'Game', 'Team', 'Opponent', 'Injury Indicator',\n",
       "       'Injury Details', 'Tier', 'Probable Pitcher', 'Batting Order',\n",
       "       'Roster Position', 'Player', 'Pos', 'Value', 'Proj', 'Opp_Pitcher'],\n",
       "      dtype='object')"
      ]
     },
     "execution_count": 49,
     "metadata": {},
     "output_type": "execute_result"
    }
   ],
   "source": [
    "slate.columns"
   ]
  },
  {
   "cell_type": "code",
   "execution_count": 57,
   "id": "6360f4a4",
   "metadata": {},
   "outputs": [
    {
     "data": {
      "text/plain": [
       "Name           Nestor CortesTarik SkubalRobbie RayMichael Kop...\n",
       "Position                                             PPPPPPPPPPP\n",
       "Salary                                                     92500\n",
       "Game           LAA@NYYMIN@DETSEA@BALCWS@TORCIN@BOSMIN@DETTB@T...\n",
       "Team                            NYYDETSEACWSCINMINTBTEXTORBOSLAD\n",
       "Opponent                        LAAMINBALTORBOSDETTEXTBCWSCINPIT\n",
       "Order                                                          0\n",
       "Opp_Pitcher                                                    0\n",
       "Projection                                                299.08\n",
       "Ownership                                                    1.0\n",
       "dtype: object"
      ]
     },
     "execution_count": 57,
     "metadata": {},
     "output_type": "execute_result"
    }
   ],
   "source": [
    "slate[slate[\"Position\"] == \"P\"].sum()"
   ]
  },
  {
   "cell_type": "code",
   "execution_count": 10,
   "id": "bdcff19c",
   "metadata": {},
   "outputs": [],
   "source": [
    "data = pd.read_csv(\"./data/linestar_data.csv\")"
   ]
  },
  {
   "cell_type": "code",
   "execution_count": 117,
   "id": "fb75e0e4",
   "metadata": {},
   "outputs": [],
   "source": [
    "order = np.array(range(1, 10))\n",
    "\n",
    "stacks = []\n",
    "for x in range(9):\n",
    "    stacks.append(np.roll(order, x)[:4])"
   ]
  },
  {
   "cell_type": "code",
   "execution_count": 118,
   "id": "710d4db6",
   "metadata": {},
   "outputs": [],
   "source": [
    "stack_scores = {str(stack): [] for stack in stacks}"
   ]
  },
  {
   "cell_type": "code",
   "execution_count": 129,
   "id": "e2be8626",
   "metadata": {},
   "outputs": [],
   "source": [
    "def add_stack_scores(frame):\n",
    "    for stack in stacks:\n",
    "        try:\n",
    "            stack_score = 0\n",
    "            for order in stack:\n",
    "                stack_score += frame.loc[frame[\"Order\"] == order, \"Scored\"].iloc[0]\n",
    "        except:\n",
    "            continue\n",
    "        stack_scores[str(stack)].append(stack_score)\n",
    "    return \"DONE\""
   ]
  },
  {
   "cell_type": "code",
   "execution_count": 130,
   "id": "943efafd",
   "metadata": {},
   "outputs": [
    {
     "data": {
      "text/plain": [
       "Date        Team\n",
       "2021-06-01  ARI     DONE\n",
       "            ATL     DONE\n",
       "            BAL     DONE\n",
       "            BOS     DONE\n",
       "            CHC     DONE\n",
       "                    ... \n",
       "2022-05-24  SF      DONE\n",
       "            STL     DONE\n",
       "            TEX     DONE\n",
       "            TOR     DONE\n",
       "            WSH     DONE\n",
       "Length: 3012, dtype: object"
      ]
     },
     "execution_count": 130,
     "metadata": {},
     "output_type": "execute_result"
    }
   ],
   "source": [
    "data.groupby([\"Date\", \"Team\"]).apply(add_stack_scores)"
   ]
  },
  {
   "cell_type": "code",
   "execution_count": 131,
   "id": "44238b71",
   "metadata": {},
   "outputs": [
    {
     "data": {
      "text/plain": [
       "{'[1 2 3 4]': 42.23353892315386,\n",
       " '[9 1 2 3]': 37.05796505652621,\n",
       " '[8 9 1 2]': 33.807536650836255,\n",
       " '[7 8 9 1]': 31.471151465125875,\n",
       " '[6 7 8 9]': 29.412154354106477,\n",
       " '[5 6 7 8]': 33.28679973163367,\n",
       " '[4 5 6 7]': 35.88484140233722,\n",
       " '[3 4 5 6]': 38.70013324450366,\n",
       " '[2 3 4 5]': 40.5610657785179}"
      ]
     },
     "execution_count": 131,
     "metadata": {},
     "output_type": "execute_result"
    }
   ],
   "source": [
    "{stack: np.mean(scores) for stack, scores in stack_scores.items()}"
   ]
  },
  {
   "cell_type": "code",
   "execution_count": 132,
   "id": "ef3a45f5",
   "metadata": {},
   "outputs": [
    {
     "data": {
      "text/plain": [
       "{'[1 2 3 4]': 24.97278155575016,\n",
       " '[9 1 2 3]': 22.953305269307837,\n",
       " '[8 9 1 2]': 21.729417981269467,\n",
       " '[7 8 9 1]': 21.031638151550823,\n",
       " '[6 7 8 9]': 20.122761981252374,\n",
       " '[5 6 7 8]': 22.06418069248909,\n",
       " '[4 5 6 7]': 22.884343977167685,\n",
       " '[3 4 5 6]': 23.757624323710544,\n",
       " '[2 3 4 5]': 24.642707650125658}"
      ]
     },
     "execution_count": 132,
     "metadata": {},
     "output_type": "execute_result"
    }
   ],
   "source": [
    "{stack: np.std(scores) for stack, scores in stack_scores.items()}"
   ]
  },
  {
   "cell_type": "code",
   "execution_count": 133,
   "id": "3fdbdfea",
   "metadata": {
    "scrolled": true
   },
   "outputs": [
    {
     "data": {
      "text/plain": [
       "{'[1 2 3 4]': 5999,\n",
       " '[9 1 2 3]': 4865,\n",
       " '[8 9 1 2]': 4843,\n",
       " '[7 8 9 1]': 4846,\n",
       " '[6 7 8 9]': 4846,\n",
       " '[5 6 7 8]': 5962,\n",
       " '[4 5 6 7]': 5990,\n",
       " '[3 4 5 6]': 6004,\n",
       " '[2 3 4 5]': 6005}"
      ]
     },
     "execution_count": 133,
     "metadata": {},
     "output_type": "execute_result"
    }
   ],
   "source": [
    "{stack: len(scores) for stack, scores in stack_scores.items()}"
   ]
  },
  {
   "cell_type": "code",
   "execution_count": null,
   "id": "d272e401",
   "metadata": {},
   "outputs": [],
   "source": []
  }
 ],
 "metadata": {
  "kernelspec": {
   "display_name": "Python 3 (ipykernel)",
   "language": "python",
   "name": "python3"
  },
  "language_info": {
   "codemirror_mode": {
    "name": "ipython",
    "version": 3
   },
   "file_extension": ".py",
   "mimetype": "text/x-python",
   "name": "python",
   "nbconvert_exporter": "python",
   "pygments_lexer": "ipython3",
   "version": "3.9.12"
  }
 },
 "nbformat": 4,
 "nbformat_minor": 5
}
