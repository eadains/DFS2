{
 "cells": [
  {
   "cell_type": "code",
   "execution_count": 9,
   "id": "5737b96f",
   "metadata": {},
   "outputs": [],
   "source": [
    "import pandas as pd\n",
    "import numpy as np\n",
    "from difflib import get_close_matches\n",
    "from datetime import datetime\n",
    "from os import listdir\n",
    "from bs4 import BeautifulSoup\n",
    "import quopri\n",
    "import re"
   ]
  },
  {
   "cell_type": "markdown",
   "id": "07bd5c1e",
   "metadata": {},
   "source": [
    "# Historical Standard Deviation"
   ]
  },
  {
   "cell_type": "code",
   "execution_count": 37,
   "id": "bdd76226",
   "metadata": {},
   "outputs": [],
   "source": [
    "historical = pd.read_csv(\"./data/linestar_data.csv\")\n",
    "stds = historical.groupby(\"Name\").std()[\"Scored\"]\n",
    "\n",
    "fill_std = stds.mean()\n",
    "\n",
    "stds = stds.replace(np.nan, fill_std)\n",
    "stds.name = \"Scored_Std\""
   ]
  },
  {
   "cell_type": "code",
   "execution_count": 38,
   "id": "db0b30d4",
   "metadata": {},
   "outputs": [],
   "source": [
    "stds.to_csv(\"./data/stds.csv\")"
   ]
  },
  {
   "cell_type": "markdown",
   "id": "b3392cb1",
   "metadata": {},
   "source": [
    "# Slate Data"
   ]
  },
  {
   "cell_type": "code",
   "execution_count": 2,
   "id": "fd3a70d0",
   "metadata": {},
   "outputs": [],
   "source": [
    "def opp_pitcher(x):\n",
    "    # If player is pitcher, return nothing\n",
    "    if x[\"Position\"] == \"P\":\n",
    "        return np.nan\n",
    "\n",
    "    series = slate.loc[\n",
    "        (slate[\"Team\"] == x[\"Opponent\"]) & (slate[\"Position\"] == \"P\"), \"ID\"\n",
    "    ]\n",
    "    # Error if no opposing pitcher is found\n",
    "    if len(series) == 0:\n",
    "        raise ValueError(f\"{x} doesn't have an opposing pitcher\")\n",
    "    # Error if more than one opposing pitcher is found\n",
    "    if len(series) > 1:\n",
    "        raise ValueError(\"Multiple Opposing Pitchers identified. Data Issues.\")\n",
    "    else:\n",
    "        return series.iloc[0]"
   ]
  },
  {
   "cell_type": "code",
   "execution_count": 3,
   "id": "72c49f08",
   "metadata": {},
   "outputs": [],
   "source": [
    "def close_matches(x, possible):\n",
    "    matches = get_close_matches(x, possible, cutoff=0.80)\n",
    "    if matches:\n",
    "        return matches[0]\n",
    "    else:\n",
    "        return np.nan"
   ]
  },
  {
   "cell_type": "code",
   "execution_count": 4,
   "id": "bd2ea57f",
   "metadata": {},
   "outputs": [],
   "source": [
    "def get_opponent(row):\n",
    "    \"\"\"\n",
    "    For full linestar historical data, use the opponent column to\n",
    "    determine opposing team and opposing pitcher, if relevant\n",
    "    \"\"\"\n",
    "    if \",\" in row[\"Opponent\"]:\n",
    "        opp_pitcher, opp_team = row[\"Opponent\"].split(\",\")\n",
    "        return (opp_team[1:], opp_pitcher)\n",
    "    elif \"@\" in row[\"Opponent\"]:\n",
    "        opp_team = row[\"Opponent\"].split(\"@\")[1]\n",
    "        return (opp_team, np.nan)\n",
    "    elif \"vs\" in row[\"Opponent\"]:\n",
    "        opp_team = row[\"Opponent\"].split(\"vs\")[1][1:]\n",
    "        return (opp_team, np.nan)"
   ]
  },
  {
   "cell_type": "code",
   "execution_count": 5,
   "id": "52377957",
   "metadata": {},
   "outputs": [],
   "source": [
    "name_pattern = re.compile(r\"\\([^()]*\\)\")\n",
    "team_pattern = re.compile(r\"[\\$,]\")\n",
    "\n",
    "def linestar_proj():\n",
    "    html = open(\"./data/proj.mhtml\", \"r\")\n",
    "    html = quopri.decodestring(html.read())\n",
    "    soup = BeautifulSoup(html, features=\"html.parser\")\n",
    "    \n",
    "    table = soup.find_all(\"table\")[0]\n",
    "    \n",
    "    # Find column index numbers for columns we want\n",
    "    # This is to avoid issues when columns change between before games and after games\n",
    "    header_idx = {\"Player\": None, \"Salary\": None, \"Consensus\": None, \"Order\": None, \"pOwn\": None}\n",
    "    # Ignore first columns that have filters etcetera\n",
    "    for num, header in enumerate(table.find_all(\"th\")[2:]):\n",
    "        if header.text in header_idx.keys():\n",
    "            # Position column always in front, so add 1 to index value\n",
    "            header_idx[header.text] = num + 1\n",
    "    \n",
    "    data = []\n",
    "    rows = table.find_all(\"tr\", class_=\"playerCardRow\")\n",
    "    for row in rows:\n",
    "        # Ignore first 4 columns that have checkboxes and other things\n",
    "        cells = row.find_all(\"td\")[4:]\n",
    "        try:\n",
    "            player_data = {\"Position\": cells[0].text,\n",
    "                           \"Player\": name_pattern.sub(\"\",\n",
    "                                                      cells[header_idx[\"Player\"]].find(class_=\"playername\").text\n",
    "                                                     ).rstrip(),\n",
    "                           \"Team\": cells[header_idx[\"Player\"]].find(class_=\"playerTeam\").text[2:],\n",
    "                           \"Salary\": int(team_pattern.sub(\"\", cells[header_idx[\"Salary\"]].text)),\n",
    "                           \"Consensus\": float(cells[header_idx[\"Consensus\"]].text),\n",
    "                           \"Order\": int(cells[header_idx[\"Order\"]].text.replace(\"-\", \"0\")),\n",
    "                           \"pOwn\": float(cells[header_idx[\"pOwn\"]].text.replace(\"%\", \"\")) / 100\n",
    "                          }\n",
    "        except:\n",
    "            print(cells)\n",
    "            raise ValueError\n",
    "        data.append(player_data)\n",
    "    return pd.DataFrame(data)\n",
    "\n",
    "def linestar_hist(date):\n",
    "    html = open(f\"./data/linestar/{date}.mhtml\", \"r\")\n",
    "    html = quopri.decodestring(html.read())\n",
    "    soup = BeautifulSoup(html, features=\"html.parser\")\n",
    "    \n",
    "    table = soup.find_all(\"table\")[0]\n",
    "    \n",
    "    # Find column index numbers for columns we want\n",
    "    # This is to avoid issues when columns change between before games and after games\n",
    "    header_idx = {\"Player\": None,\n",
    "                  \"Salary\": None,\n",
    "                  \"Scored\": None,\n",
    "                  \"actOwn\": None}\n",
    "    # Ignore first columns that have filters etcetera\n",
    "    for num, header in enumerate(table.find_all(\"th\")[2:]):\n",
    "        if header.text in header_idx.keys():\n",
    "            # Position column always in front, so add 1 to index value\n",
    "            header_idx[header.text] = num + 1\n",
    "    \n",
    "    data = []\n",
    "    rows = table.find_all(\"tr\", class_=\"playerCardRow\")\n",
    "    for row in rows:\n",
    "        # Ignore first 4 columns that have checkboxes and other things\n",
    "        cells = row.find_all(\"td\")[4:]\n",
    "        try:\n",
    "            player_data = {\"Player\": name_pattern.sub(\"\",\n",
    "                                                      cells[header_idx[\"Player\"]].find(class_=\"playername\").text\n",
    "                                                     ).rstrip(),\n",
    "                           \"Team\": cells[header_idx[\"Player\"]].find(class_=\"playerTeam\").text[2:],\n",
    "                           \"Salary\": int(team_pattern.sub(\"\", cells[header_idx[\"Salary\"]].text)),\n",
    "                           \"Scored\": float(cells[header_idx[\"Scored\"]].text),\n",
    "                           \"actOwn\": float(cells[header_idx[\"actOwn\"]].text.replace(\"%\", \"\")) / 100\n",
    "                          }\n",
    "        except:\n",
    "            print(cells)\n",
    "            raise ValueError\n",
    "        data.append(player_data)\n",
    "    return pd.DataFrame(data)\n",
    "\n",
    "def linestar_hist_full(date):\n",
    "    html = open(f\"./data/linestar/{date}.mhtml\", \"r\")\n",
    "    html = quopri.decodestring(html.read())\n",
    "    soup = BeautifulSoup(html, features=\"html.parser\")\n",
    "    \n",
    "    table = soup.find_all(\"table\")[0]\n",
    "    \n",
    "    # Find column index numbers for columns we want\n",
    "    # This is to avoid issues when columns change between before games and after games\n",
    "    header_idx = {\"Player\": None,\n",
    "                  \"Salary\": None,\n",
    "                  \"Opponent\": None,\n",
    "                  \"Consensus\": None,\n",
    "                  \"Projection\": None,\n",
    "                  \"Scored\": None,\n",
    "                  \"Order\": None,\n",
    "                  \"pOwn\": None,\n",
    "                  \"actOwn\": None}\n",
    "    # Ignore first columns that have filters etcetera\n",
    "    for num, header in enumerate(table.find_all(\"th\")[2:]):\n",
    "        if header.text in header_idx.keys():\n",
    "            # Position column always in front, so add 1 to index value\n",
    "            header_idx[header.text] = num + 1\n",
    "\n",
    "    data = []\n",
    "    rows = table.find_all(\"tr\", class_=\"playerCardRow\")\n",
    "    for row in rows:\n",
    "        # Ignore first 4 columns that have checkboxes and other things\n",
    "        cells = row.find_all(\"td\")[4:]\n",
    "        try:\n",
    "            player_data = {\"Position\": cells[0].text,\n",
    "                           \"Player\": name_pattern.sub(\"\",\n",
    "                                                      cells[header_idx[\"Player\"]].find(class_=\"playername\").text\n",
    "                                                     ).rstrip(),\n",
    "                           \"Team\": cells[header_idx[\"Player\"]].find(class_=\"playerTeam\").text[2:],\n",
    "                           \"Opponent\": cells[header_idx[\"Opponent\"]].text,\n",
    "                           \"Salary\": int(team_pattern.sub(\"\", cells[header_idx[\"Salary\"]].text)),\n",
    "                           \"Consensus\": float(cells[header_idx[\"Consensus\"]].text),\n",
    "                           \"Projection\": float(cells[header_idx[\"Projection\"]].find(\"input\").get(\"value\")),\n",
    "                           \"Scored\": float(cells[header_idx[\"Scored\"]].text),\n",
    "                           \"Order\": int(cells[header_idx[\"Order\"]].text.replace(\"-\", \"0\")),\n",
    "                           \"pOwn\": float(cells[header_idx[\"pOwn\"]].text.replace(\"%\", \"\")) / 100,\n",
    "                           \"actOwn\": float(cells[header_idx[\"actOwn\"]].text.replace(\"%\", \"\")) / 100\n",
    "                          }\n",
    "        except:\n",
    "            print(cells)\n",
    "            raise ValueError\n",
    "        data.append(player_data)\n",
    "        \n",
    "    slate = pd.DataFrame(data)\n",
    "    # Change players that have multiple listed positions to just the first one\n",
    "    slate[\"Position\"] = slate[\"Position\"].str.split(\"/\", expand=True)[0]\n",
    "    # C and 1B players can fill the C/1B slot\n",
    "    slate[\"Position\"] = slate[\"Position\"].replace({\"C\": \"C/1B\", \"1B\": \"C/1B\"})\n",
    "    # Convert Linestar opponent column into opposing team and opposing pitcher columns\n",
    "    slate[[\"Opp_Team\", \"Opp_Pitcher\"]] = slate.apply(get_opponent, axis=1, result_type=\"expand\")\n",
    "    # For some historical data pages, consensus values are not available and are 0.0\n",
    "    # Where this occurs, replace consensus value with projection value\n",
    "    slate[\"Consensus\"] = slate[\"Consensus\"].where(slate[\"Consensus\"] != 0, slate[\"Projection\"])\n",
    "    return slate[[\"Player\", \"Position\", \"Team\",\n",
    "                  \"Opp_Team\", \"Opp_Pitcher\", \"Salary\",\n",
    "                  \"Consensus\", \"Scored\",\n",
    "                  \"Order\", \"pOwn\", \"actOwn\"]]"
   ]
  },
  {
   "cell_type": "code",
   "execution_count": 80,
   "id": "76f88e60",
   "metadata": {},
   "outputs": [],
   "source": [
    "# TheDailyAverage Slate\n",
    "slate = pd.read_csv(\"./data/slate.csv\")\n",
    "\n",
    "proj = pd.concat([pd.read_csv(\"./data/proj_1.csv\"), pd.read_csv(\"./data/proj_2.csv\")])\n",
    "# Find closest name matches from slate\n",
    "proj[\"Player\"] = proj[\"Player\"].apply(lambda x: close_matches(x, slate[\"Nickname\"]))\n",
    "# Sometimes salary contains commas\n",
    "proj[\"Salary\"] = proj[\"Salary\"].str.replace(\",\", \"\")\n",
    "proj[\"Salary\"] = proj[\"Salary\"].astype(int)\n",
    "# Sometimes data is duplicated\n",
    "proj = proj.drop_duplicates(subset=[\"Player\", \"Pos\", \"Salary\"])\n",
    "# Merge projections with slated players\n",
    "slate = slate.merge(\n",
    "    proj,\n",
    "    left_on=[\"Nickname\", \"Position\", \"Salary\"],\n",
    "    right_on=[\"Player\", \"Pos\", \"Salary\"],\n",
    "    how=\"left\",\n",
    ")\n",
    "\n",
    "# Get historical points scored standard deviation for players\n",
    "stds = pd.read_csv(\"./data/stds.csv\")\n",
    "stds[\"Name\"] = stds[\"Name\"].apply(lambda x: close_matches(x, slate[\"Nickname\"]))\n",
    "# Merge stds to slate\n",
    "slate = slate.merge(stds, left_on=\"Nickname\", right_on=\"Name\", how=\"left\")\n",
    "# Set any unfilled player standard deviations to the mean value\n",
    "slate[\"Scored_Std\"] = slate[\"Scored_Std\"].replace(np.nan, slate[\"Scored_Std\"].mean())\n",
    "\n",
    "# Drop duplicate rows before adjusting position column\n",
    "slate = slate.drop_duplicates(subset=[\"Nickname\", \"Position\", \"Team\"])\n",
    "# Drop all pitchers that are not starting\n",
    "slate = slate.drop(slate[(slate[\"Position\"] == \"P\") & (slate[\"Probable Pitcher\"].isna())].index)\n",
    "# BIG ASSUMPTION: assume player fills only first position listed.\n",
    "# Because of the UTIL slot, I assume this has only minimal impact\n",
    "# upon optimality\n",
    "slate[\"Position\"] = slate[\"Position\"].str.split(\"/\", expand=True)[0]\n",
    "# C and 1B players can fill the C/1B slot\n",
    "slate[\"Position\"] = slate[\"Position\"].replace({\"C\": \"C/1B\", \"1B\": \"C/1B\"})\n",
    "# Batting order is 0 for pitchers or for non-starting players\n",
    "slate[\"Batting Order\"] = slate[\"Batting Order\"].replace(np.nan, 0)\n",
    "slate[\"Batting Order\"] = slate[\"Batting Order\"].astype(int)\n",
    "# Opposing Pitcher for each player\n",
    "slate[\"Opp_Pitcher\"] = slate.apply(opp_pitcher, axis=1)\n",
    "# Only care about players with positive projections\n",
    "slate = slate[slate[\"Proj\"] > 0]\n",
    "\n",
    "# Select relevant columns and rename\n",
    "slate = slate[[\"Nickname\", \"Position\", \"Salary\", \"Game\", \"Team\", \"Opponent\", \"Batting Order\", \"Opp_Pitcher\", \"Proj\", \"Scored_Std\"]]\n",
    "slate.columns = [\"Name\", \"Position\", \"Salary\", \"Game\", \"Team\", \"Opponent\", \"Order\", \"Opp_Pitcher\", \"Projection\", \"Std\"]\n",
    "\n",
    "# Write to csv with todays date\n",
    "slate.to_csv(f\"./data/slate_{datetime.today().strftime('%Y-%m-%d')}.csv\", index=False)"
   ]
  },
  {
   "cell_type": "code",
   "execution_count": 16,
   "id": "5e2427ea",
   "metadata": {
    "scrolled": true
   },
   "outputs": [],
   "source": [
    "# Linestar Projection Slate\n",
    "slate = pd.read_csv(\"./data/slate.csv\")\n",
    "\n",
    "proj = linestar_proj()\n",
    "proj[\"Player\"] = proj[\"Player\"].apply(lambda x: close_matches(x, slate[\"Nickname\"]))\n",
    "\n",
    "slate = slate.merge(proj,\n",
    "                    left_on=[\"Nickname\", \"Team\", \"Salary\", \"Position\"],\n",
    "                    right_on=[\"Player\", \"Team\", \"Salary\", \"Position\"],\n",
    "                    how=\"left\")\n",
    "\n",
    "# Get historical points scored standard deviation for players\n",
    "stds = pd.read_csv(\"./data/stds.csv\")\n",
    "stds[\"Name\"] = stds[\"Name\"].apply(lambda x: close_matches(x, slate[\"Nickname\"]))\n",
    "# Merge stds to slate\n",
    "slate = slate.merge(stds, left_on=\"Nickname\", right_on=\"Name\", how=\"left\")\n",
    "# Set any unfilled player standard deviations to the mean value\n",
    "slate[\"Scored_Std\"] = slate[\"Scored_Std\"].replace(np.nan, slate[\"Scored_Std\"].mean())\n",
    "\n",
    "# Drop duplicate rows before adjusting position column\n",
    "slate = slate.drop_duplicates(subset=[\"Nickname\", \"Position\", \"Team\"])\n",
    "slate = slate.dropna(subset=[\"Player\", \"Consensus\", \"Order\"])\n",
    "# Drop all pitchers that are not starting\n",
    "slate = slate.drop(slate[(slate[\"Position\"] == \"P\") & (slate[\"Probable Pitcher\"].isna())].index)\n",
    "# BIG ASSUMPTION: assume player fills only first position listed.\n",
    "# Because of the UTIL slot, I assume this has only minimal impact\n",
    "# upon optimality\n",
    "slate[\"Position\"] = slate[\"Position\"].str.split(\"/\", expand=True)[0]\n",
    "# C and 1B players can fill the C/1B slot\n",
    "slate[\"Position\"] = slate[\"Position\"].replace({\"C\": \"C/1B\", \"1B\": \"C/1B\"})\n",
    "slate[\"Order\"] = slate[\"Order\"].astype(int)\n",
    "# Drop batters who aren't starting\n",
    "slate = slate.drop(slate[(slate[\"Order\"] == 0) & (slate[\"Position\"] != \"P\")].index)\n",
    "# Drop batters with injuries\n",
    "slate = slate[slate[\"Injury Indicator\"].isna()]\n",
    "# Opposing Pitcher for each player\n",
    "slate[\"Opp_Pitcher\"] = slate.apply(opp_pitcher, axis=1)\n",
    "# Sometimes teams dont have a probable pitcher listed, so drop when teams don't\n",
    "# have an opposing pitcher\n",
    "slate = slate.drop(slate[(slate[\"Position\"] != \"P\") & (slate[\"Opp_Pitcher\"].isna())].index)\n",
    "# Only care about players with positive projections\n",
    "slate = slate[slate[\"Consensus\"] > 0]\n",
    "\n",
    "slate = slate[[\"Nickname\", \"Id\", \"Position\", \"Salary\", \"Game\", \"Team\", \"Opponent\", \"Order\", \"Opp_Pitcher\", \"Consensus\", \"pOwn\", \"Scored_Std\"]]\n",
    "slate.columns = [\"Name\", \"ID\", \"Position\", \"Salary\", \"Game\", \"Team\", \"Opponent\", \"Order\", \"Opp_Pitcher\", \"Projection\", \"Proj_Ownership\", \"Hist_Std\"]\n",
    "\n",
    "# Write to csv with todays date\n",
    "slate.to_csv(f\"./data/slate_{datetime.today().strftime('%Y-%m-%d')}.csv\", index=False)"
   ]
  },
  {
   "cell_type": "code",
   "execution_count": 31,
   "id": "3805ef2f",
   "metadata": {
    "scrolled": false
   },
   "outputs": [
    {
     "ename": "KeyError",
     "evalue": "\"['Proj_Ownership'] not in index\"",
     "output_type": "error",
     "traceback": [
      "\u001b[0;31m---------------------------------------------------------------------------\u001b[0m",
      "\u001b[0;31mKeyError\u001b[0m                                  Traceback (most recent call last)",
      "Input \u001b[0;32mIn [31]\u001b[0m, in \u001b[0;36m<cell line: 17>\u001b[0;34m()\u001b[0m\n\u001b[1;32m     14\u001b[0m \u001b[38;5;28;01mif\u001b[39;00m \u001b[38;5;28many\u001b[39m(slate[\u001b[38;5;124m\"\u001b[39m\u001b[38;5;124mScored\u001b[39m\u001b[38;5;124m\"\u001b[39m]\u001b[38;5;241m.\u001b[39misna()):\n\u001b[1;32m     15\u001b[0m     \u001b[38;5;28;01mraise\u001b[39;00m \u001b[38;5;167;01mValueError\u001b[39;00m(\u001b[38;5;124m\"\u001b[39m\u001b[38;5;124mNA in Scored column, probably issue with joining\u001b[39m\u001b[38;5;124m\"\u001b[39m)\n\u001b[0;32m---> 17\u001b[0m slate \u001b[38;5;241m=\u001b[39m \u001b[43mslate\u001b[49m\u001b[43m[\u001b[49m\u001b[43m[\u001b[49m\u001b[38;5;124;43m\"\u001b[39;49m\u001b[38;5;124;43mName\u001b[39;49m\u001b[38;5;124;43m\"\u001b[39;49m\u001b[43m,\u001b[49m\u001b[43m \u001b[49m\u001b[38;5;124;43m\"\u001b[39;49m\u001b[38;5;124;43mID\u001b[39;49m\u001b[38;5;124;43m\"\u001b[39;49m\u001b[43m,\u001b[49m\u001b[43m \u001b[49m\u001b[38;5;124;43m\"\u001b[39;49m\u001b[38;5;124;43mPosition\u001b[39;49m\u001b[38;5;124;43m\"\u001b[39;49m\u001b[43m,\u001b[49m\u001b[43m \u001b[49m\u001b[38;5;124;43m\"\u001b[39;49m\u001b[38;5;124;43mSalary\u001b[39;49m\u001b[38;5;124;43m\"\u001b[39;49m\u001b[43m,\u001b[49m\u001b[43m \u001b[49m\u001b[38;5;124;43m\"\u001b[39;49m\u001b[38;5;124;43mGame\u001b[39;49m\u001b[38;5;124;43m\"\u001b[39;49m\u001b[43m,\u001b[49m\u001b[43m \u001b[49m\u001b[38;5;124;43m\"\u001b[39;49m\u001b[38;5;124;43mTeam\u001b[39;49m\u001b[38;5;124;43m\"\u001b[39;49m\u001b[43m,\u001b[49m\u001b[43m \u001b[49m\u001b[38;5;124;43m\"\u001b[39;49m\u001b[38;5;124;43mOpponent\u001b[39;49m\u001b[38;5;124;43m\"\u001b[39;49m\u001b[43m,\u001b[49m\u001b[43m \u001b[49m\u001b[38;5;124;43m\"\u001b[39;49m\u001b[38;5;124;43mOrder\u001b[39;49m\u001b[38;5;124;43m\"\u001b[39;49m\u001b[43m,\u001b[49m\u001b[43m \u001b[49m\u001b[38;5;124;43m\"\u001b[39;49m\u001b[38;5;124;43mOpp_Pitcher\u001b[39;49m\u001b[38;5;124;43m\"\u001b[39;49m\u001b[43m,\u001b[49m\u001b[43m \u001b[49m\u001b[38;5;124;43m\"\u001b[39;49m\u001b[38;5;124;43mProjection\u001b[39;49m\u001b[38;5;124;43m\"\u001b[39;49m\u001b[43m,\u001b[49m\u001b[43m \u001b[49m\u001b[38;5;124;43m\"\u001b[39;49m\u001b[38;5;124;43mScored\u001b[39;49m\u001b[38;5;124;43m\"\u001b[39;49m\u001b[43m,\u001b[49m\u001b[43m \u001b[49m\u001b[38;5;124;43m\"\u001b[39;49m\u001b[38;5;124;43mProj_Ownership\u001b[39;49m\u001b[38;5;124;43m\"\u001b[39;49m\u001b[43m,\u001b[49m\u001b[43m \u001b[49m\u001b[38;5;124;43m\"\u001b[39;49m\u001b[38;5;124;43mactOwn\u001b[39;49m\u001b[38;5;124;43m\"\u001b[39;49m\u001b[43m]\u001b[49m\u001b[43m]\u001b[49m\n\u001b[1;32m     18\u001b[0m slate\u001b[38;5;241m.\u001b[39mcolumns \u001b[38;5;241m=\u001b[39m [\u001b[38;5;124m\"\u001b[39m\u001b[38;5;124mName\u001b[39m\u001b[38;5;124m\"\u001b[39m, \u001b[38;5;124m\"\u001b[39m\u001b[38;5;124mID\u001b[39m\u001b[38;5;124m\"\u001b[39m, \u001b[38;5;124m\"\u001b[39m\u001b[38;5;124mPosition\u001b[39m\u001b[38;5;124m\"\u001b[39m, \u001b[38;5;124m\"\u001b[39m\u001b[38;5;124mSalary\u001b[39m\u001b[38;5;124m\"\u001b[39m, \u001b[38;5;124m\"\u001b[39m\u001b[38;5;124mGame\u001b[39m\u001b[38;5;124m\"\u001b[39m, \u001b[38;5;124m\"\u001b[39m\u001b[38;5;124mTeam\u001b[39m\u001b[38;5;124m\"\u001b[39m, \u001b[38;5;124m\"\u001b[39m\u001b[38;5;124mOpponent\u001b[39m\u001b[38;5;124m\"\u001b[39m, \u001b[38;5;124m\"\u001b[39m\u001b[38;5;124mOrder\u001b[39m\u001b[38;5;124m\"\u001b[39m, \u001b[38;5;124m\"\u001b[39m\u001b[38;5;124mOpp_Pitcher\u001b[39m\u001b[38;5;124m\"\u001b[39m, \u001b[38;5;124m\"\u001b[39m\u001b[38;5;124mProjection\u001b[39m\u001b[38;5;124m\"\u001b[39m, \u001b[38;5;124m\"\u001b[39m\u001b[38;5;124mScored\u001b[39m\u001b[38;5;124m\"\u001b[39m, \u001b[38;5;124m\"\u001b[39m\u001b[38;5;124mProj_Ownership\u001b[39m\u001b[38;5;124m\"\u001b[39m, \u001b[38;5;124m\"\u001b[39m\u001b[38;5;124mactOwn\u001b[39m\u001b[38;5;124m\"\u001b[39m]\n\u001b[1;32m     19\u001b[0m slate\u001b[38;5;241m.\u001b[39mto_csv(\u001b[38;5;124mf\u001b[39m\u001b[38;5;124m\"\u001b[39m\u001b[38;5;124m./data/realized_slates/slate_\u001b[39m\u001b[38;5;132;01m{\u001b[39;00mdate\u001b[38;5;132;01m}\u001b[39;00m\u001b[38;5;124m.csv\u001b[39m\u001b[38;5;124m\"\u001b[39m, index\u001b[38;5;241m=\u001b[39m\u001b[38;5;28;01mFalse\u001b[39;00m)\n",
      "File \u001b[0;32m~/miniconda3/envs/DFS2/lib/python3.9/site-packages/pandas/core/frame.py:3511\u001b[0m, in \u001b[0;36mDataFrame.__getitem__\u001b[0;34m(self, key)\u001b[0m\n\u001b[1;32m   3509\u001b[0m     \u001b[38;5;28;01mif\u001b[39;00m is_iterator(key):\n\u001b[1;32m   3510\u001b[0m         key \u001b[38;5;241m=\u001b[39m \u001b[38;5;28mlist\u001b[39m(key)\n\u001b[0;32m-> 3511\u001b[0m     indexer \u001b[38;5;241m=\u001b[39m \u001b[38;5;28;43mself\u001b[39;49m\u001b[38;5;241;43m.\u001b[39;49m\u001b[43mcolumns\u001b[49m\u001b[38;5;241;43m.\u001b[39;49m\u001b[43m_get_indexer_strict\u001b[49m\u001b[43m(\u001b[49m\u001b[43mkey\u001b[49m\u001b[43m,\u001b[49m\u001b[43m \u001b[49m\u001b[38;5;124;43m\"\u001b[39;49m\u001b[38;5;124;43mcolumns\u001b[39;49m\u001b[38;5;124;43m\"\u001b[39;49m\u001b[43m)\u001b[49m[\u001b[38;5;241m1\u001b[39m]\n\u001b[1;32m   3513\u001b[0m \u001b[38;5;66;03m# take() does not accept boolean indexers\u001b[39;00m\n\u001b[1;32m   3514\u001b[0m \u001b[38;5;28;01mif\u001b[39;00m \u001b[38;5;28mgetattr\u001b[39m(indexer, \u001b[38;5;124m\"\u001b[39m\u001b[38;5;124mdtype\u001b[39m\u001b[38;5;124m\"\u001b[39m, \u001b[38;5;28;01mNone\u001b[39;00m) \u001b[38;5;241m==\u001b[39m \u001b[38;5;28mbool\u001b[39m:\n",
      "File \u001b[0;32m~/miniconda3/envs/DFS2/lib/python3.9/site-packages/pandas/core/indexes/base.py:5782\u001b[0m, in \u001b[0;36mIndex._get_indexer_strict\u001b[0;34m(self, key, axis_name)\u001b[0m\n\u001b[1;32m   5779\u001b[0m \u001b[38;5;28;01melse\u001b[39;00m:\n\u001b[1;32m   5780\u001b[0m     keyarr, indexer, new_indexer \u001b[38;5;241m=\u001b[39m \u001b[38;5;28mself\u001b[39m\u001b[38;5;241m.\u001b[39m_reindex_non_unique(keyarr)\n\u001b[0;32m-> 5782\u001b[0m \u001b[38;5;28;43mself\u001b[39;49m\u001b[38;5;241;43m.\u001b[39;49m\u001b[43m_raise_if_missing\u001b[49m\u001b[43m(\u001b[49m\u001b[43mkeyarr\u001b[49m\u001b[43m,\u001b[49m\u001b[43m \u001b[49m\u001b[43mindexer\u001b[49m\u001b[43m,\u001b[49m\u001b[43m \u001b[49m\u001b[43maxis_name\u001b[49m\u001b[43m)\u001b[49m\n\u001b[1;32m   5784\u001b[0m keyarr \u001b[38;5;241m=\u001b[39m \u001b[38;5;28mself\u001b[39m\u001b[38;5;241m.\u001b[39mtake(indexer)\n\u001b[1;32m   5785\u001b[0m \u001b[38;5;28;01mif\u001b[39;00m \u001b[38;5;28misinstance\u001b[39m(key, Index):\n\u001b[1;32m   5786\u001b[0m     \u001b[38;5;66;03m# GH 42790 - Preserve name from an Index\u001b[39;00m\n",
      "File \u001b[0;32m~/miniconda3/envs/DFS2/lib/python3.9/site-packages/pandas/core/indexes/base.py:5845\u001b[0m, in \u001b[0;36mIndex._raise_if_missing\u001b[0;34m(self, key, indexer, axis_name)\u001b[0m\n\u001b[1;32m   5842\u001b[0m     \u001b[38;5;28;01mraise\u001b[39;00m \u001b[38;5;167;01mKeyError\u001b[39;00m(\u001b[38;5;124mf\u001b[39m\u001b[38;5;124m\"\u001b[39m\u001b[38;5;124mNone of [\u001b[39m\u001b[38;5;132;01m{\u001b[39;00mkey\u001b[38;5;132;01m}\u001b[39;00m\u001b[38;5;124m] are in the [\u001b[39m\u001b[38;5;132;01m{\u001b[39;00maxis_name\u001b[38;5;132;01m}\u001b[39;00m\u001b[38;5;124m]\u001b[39m\u001b[38;5;124m\"\u001b[39m)\n\u001b[1;32m   5844\u001b[0m not_found \u001b[38;5;241m=\u001b[39m \u001b[38;5;28mlist\u001b[39m(ensure_index(key)[missing_mask\u001b[38;5;241m.\u001b[39mnonzero()[\u001b[38;5;241m0\u001b[39m]]\u001b[38;5;241m.\u001b[39munique())\n\u001b[0;32m-> 5845\u001b[0m \u001b[38;5;28;01mraise\u001b[39;00m \u001b[38;5;167;01mKeyError\u001b[39;00m(\u001b[38;5;124mf\u001b[39m\u001b[38;5;124m\"\u001b[39m\u001b[38;5;132;01m{\u001b[39;00mnot_found\u001b[38;5;132;01m}\u001b[39;00m\u001b[38;5;124m not in index\u001b[39m\u001b[38;5;124m\"\u001b[39m)\n",
      "\u001b[0;31mKeyError\u001b[0m: \"['Proj_Ownership'] not in index\""
     ]
    }
   ],
   "source": [
    "# Linestar Historical Slate\n",
    "# Includes realized scored points and ownership percentages\n",
    "date = \"2022-06-01\"\n",
    "slate = pd.read_csv(f\"./data/slates/slate_{date}.csv\")\n",
    "\n",
    "hist = linestar_hist(date)\n",
    "hist[\"Player\"] = hist[\"Player\"].apply(lambda x: close_matches(x, slate[\"Name\"]))\n",
    "\n",
    "slate = slate.merge(hist,\n",
    "                    left_on=[\"Name\", \"Team\", \"Salary\"],\n",
    "                    right_on=[\"Player\", \"Team\", \"Salary\"],\n",
    "                    how=\"left\")\n",
    "\n",
    "if any(slate[\"Scored\"].isna()):\n",
    "    raise ValueError(\"NA in Scored column, probably issue with joining\")\n",
    "\n",
    "slate = slate[[\"Name\", \"ID\", \"Position\", \"Salary\", \"Game\", \"Team\", \"Opponent\", \"Order\", \"Opp_Pitcher\", \"Projection\", \"Scored\", \"Proj_Ownership\", \"actOwn\"]]\n",
    "slate.columns = [\"Name\", \"ID\", \"Position\", \"Salary\", \"Game\", \"Team\", \"Opponent\", \"Order\", \"Opp_Pitcher\", \"Projection\", \"Scored\", \"Proj_Ownership\", \"actOwn\"]\n",
    "slate.to_csv(f\"./data/realized_slates/slate_{date}.csv\", index=False)"
   ]
  },
  {
   "cell_type": "code",
   "execution_count": 4,
   "id": "f530b28d",
   "metadata": {},
   "outputs": [],
   "source": [
    "def make_game(row):\n",
    "    if row[\"HomeOrAway\"] == \"HOME\":\n",
    "        return f\"{row['Opponent']}@{row['Team']}\"\n",
    "    elif row[\"HomeOrAway\"] == \"AWAY\":\n",
    "        return f\"{row['Team']}@{row['Opponent']}\""
   ]
  },
  {
   "cell_type": "code",
   "execution_count": 17,
   "id": "5e9ff08d",
   "metadata": {},
   "outputs": [],
   "source": [
    "# FantasyData projection slate\n",
    "slate = pd.read_csv(\"./data/fanduel.csv\")\n",
    "players = pd.concat([pd.read_csv(\"./data/pitchers.csv\"), pd.read_csv(\"./data/batters.csv\")])\n",
    "players[\"Game\"] = players.apply(make_game, axis=1)\n",
    "\n",
    "slate = slate.merge(players, on=[\"Name\", \"Team\", \"Opponent\"], how=\"left\")\n",
    "slate = slate[slate[\"FantasyPointsFanDuel_x\"] > 0]\n",
    "slate = slate[[\"Name\", \"Position_x\", \"OperatorSalary\", \"Game\", \"Team\", \"Opponent\", \"BattingOrder\", \"FantasyPointsFanDuel_x\"]]\n",
    "slate.columns = [\"Name\", \"Position\", \"Salary\", \"Game\", \"Team\", \"Opponent\", \"Order\", \"Projection\"]\n",
    "\n",
    "fd_slate = pd.read_csv(\"./data/slate.csv\")\n",
    "fd_slate[\"Nickname\"] = fd_slate[\"Nickname\"].apply(lambda x: close_matches(x, slate[\"Name\"]))\n",
    "fd_slate = fd_slate.rename(columns={\"Nickname\": \"Name\"})\n",
    "\n",
    "# Possible Issue here: two players having the same name and same salary\n",
    "# Can't join on Team because FantasyData uses different team abbreviations\n",
    "slate = slate.merge(fd_slate[[\"Name\", \"Id\", \"Salary\"]], how=\"left\")\n",
    "slate = slate.rename(columns={\"Id\": \"ID\"})\n",
    "slate[\"Opp_Pitcher\"] = slate.apply(opp_pitcher, axis=1)\n",
    "slate.loc[slate[\"Order\"].isna(), \"Order\"] = 0\n",
    "slate[\"Order\"] = slate[\"Order\"].astype(int)\n",
    "# C and 1B players can fill the C/1B slot\n",
    "slate[\"Position\"] = slate[\"Position\"].replace({\"C\": \"C/1B\", \"1B\": \"C/1B\"})\n",
    "\n",
    "slate = slate[[\"Name\", \"ID\", \"Position\", \"Salary\", \"Game\", \"Team\", \"Opponent\", \"Order\", \"Opp_Pitcher\", \"Projection\"]]"
   ]
  },
  {
   "cell_type": "code",
   "execution_count": 12,
   "id": "ccc9f30e",
   "metadata": {},
   "outputs": [],
   "source": [
    "slate = pd.read_csv(\"./data/slates/slate_2022-07-16.csv\")"
   ]
  },
  {
   "cell_type": "code",
   "execution_count": 13,
   "id": "6e7f3032",
   "metadata": {},
   "outputs": [
    {
     "data": {
      "text/html": [
       "<div>\n",
       "<style scoped>\n",
       "    .dataframe tbody tr th:only-of-type {\n",
       "        vertical-align: middle;\n",
       "    }\n",
       "\n",
       "    .dataframe tbody tr th {\n",
       "        vertical-align: top;\n",
       "    }\n",
       "\n",
       "    .dataframe thead th {\n",
       "        text-align: right;\n",
       "    }\n",
       "</style>\n",
       "<table border=\"1\" class=\"dataframe\">\n",
       "  <thead>\n",
       "    <tr style=\"text-align: right;\">\n",
       "      <th></th>\n",
       "      <th>Name</th>\n",
       "      <th>ID</th>\n",
       "      <th>Position</th>\n",
       "      <th>Salary</th>\n",
       "      <th>Game</th>\n",
       "      <th>Team</th>\n",
       "      <th>Opponent</th>\n",
       "      <th>Order</th>\n",
       "      <th>Opp_Pitcher</th>\n",
       "      <th>Projection</th>\n",
       "    </tr>\n",
       "  </thead>\n",
       "  <tbody>\n",
       "    <tr>\n",
       "      <th>0</th>\n",
       "      <td>Justin Verlander</td>\n",
       "      <td>78243-5202</td>\n",
       "      <td>P</td>\n",
       "      <td>11100</td>\n",
       "      <td>OAK@HOU</td>\n",
       "      <td>HOU</td>\n",
       "      <td>OAK</td>\n",
       "      <td>0</td>\n",
       "      <td>NaN</td>\n",
       "      <td>43.05</td>\n",
       "    </tr>\n",
       "    <tr>\n",
       "      <th>1</th>\n",
       "      <td>Max Fried</td>\n",
       "      <td>78243-52185</td>\n",
       "      <td>P</td>\n",
       "      <td>10700</td>\n",
       "      <td>ATL@WSH</td>\n",
       "      <td>ATL</td>\n",
       "      <td>WSH</td>\n",
       "      <td>0</td>\n",
       "      <td>NaN</td>\n",
       "      <td>30.79</td>\n",
       "    </tr>\n",
       "    <tr>\n",
       "      <th>2</th>\n",
       "      <td>Logan Gilbert</td>\n",
       "      <td>78243-102396</td>\n",
       "      <td>P</td>\n",
       "      <td>10300</td>\n",
       "      <td>SEA@TEX</td>\n",
       "      <td>SEA</td>\n",
       "      <td>TEX</td>\n",
       "      <td>0</td>\n",
       "      <td>NaN</td>\n",
       "      <td>32.41</td>\n",
       "    </tr>\n",
       "    <tr>\n",
       "      <th>3</th>\n",
       "      <td>Dean Kremer</td>\n",
       "      <td>78243-102447</td>\n",
       "      <td>P</td>\n",
       "      <td>8900</td>\n",
       "      <td>BAL@TB</td>\n",
       "      <td>BAL</td>\n",
       "      <td>TB</td>\n",
       "      <td>0</td>\n",
       "      <td>NaN</td>\n",
       "      <td>21.71</td>\n",
       "    </tr>\n",
       "    <tr>\n",
       "      <th>4</th>\n",
       "      <td>Cal Quantrill</td>\n",
       "      <td>78243-79228</td>\n",
       "      <td>P</td>\n",
       "      <td>8500</td>\n",
       "      <td>DET@CLE</td>\n",
       "      <td>CLE</td>\n",
       "      <td>DET</td>\n",
       "      <td>0</td>\n",
       "      <td>NaN</td>\n",
       "      <td>30.05</td>\n",
       "    </tr>\n",
       "    <tr>\n",
       "      <th>...</th>\n",
       "      <td>...</td>\n",
       "      <td>...</td>\n",
       "      <td>...</td>\n",
       "      <td>...</td>\n",
       "      <td>...</td>\n",
       "      <td>...</td>\n",
       "      <td>...</td>\n",
       "      <td>...</td>\n",
       "      <td>...</td>\n",
       "      <td>...</td>\n",
       "    </tr>\n",
       "    <tr>\n",
       "      <th>115</th>\n",
       "      <td>Alcides Escobar</td>\n",
       "      <td>78243-5445</td>\n",
       "      <td>SS</td>\n",
       "      <td>2000</td>\n",
       "      <td>ATL@WSH</td>\n",
       "      <td>WSH</td>\n",
       "      <td>ATL</td>\n",
       "      <td>7</td>\n",
       "      <td>78243-52185</td>\n",
       "      <td>8.46</td>\n",
       "    </tr>\n",
       "    <tr>\n",
       "      <th>116</th>\n",
       "      <td>Luke Williams</td>\n",
       "      <td>78243-152972</td>\n",
       "      <td>2B</td>\n",
       "      <td>2000</td>\n",
       "      <td>PHI@MIA</td>\n",
       "      <td>MIA</td>\n",
       "      <td>PHI</td>\n",
       "      <td>8</td>\n",
       "      <td>78243-83157</td>\n",
       "      <td>10.34</td>\n",
       "    </tr>\n",
       "    <tr>\n",
       "      <th>117</th>\n",
       "      <td>Akil Baddoo</td>\n",
       "      <td>78243-82611</td>\n",
       "      <td>OF</td>\n",
       "      <td>2000</td>\n",
       "      <td>DET@CLE</td>\n",
       "      <td>DET</td>\n",
       "      <td>CLE</td>\n",
       "      <td>9</td>\n",
       "      <td>78243-79228</td>\n",
       "      <td>8.53</td>\n",
       "    </tr>\n",
       "    <tr>\n",
       "      <th>118</th>\n",
       "      <td>Robinson Chirinos</td>\n",
       "      <td>78243-12988</td>\n",
       "      <td>C/1B</td>\n",
       "      <td>2000</td>\n",
       "      <td>BAL@TB</td>\n",
       "      <td>BAL</td>\n",
       "      <td>TB</td>\n",
       "      <td>8</td>\n",
       "      <td>78243-68485</td>\n",
       "      <td>8.59</td>\n",
       "    </tr>\n",
       "    <tr>\n",
       "      <th>119</th>\n",
       "      <td>Dermis Garcia</td>\n",
       "      <td>78243-172997</td>\n",
       "      <td>C/1B</td>\n",
       "      <td>2000</td>\n",
       "      <td>OAK@HOU</td>\n",
       "      <td>OAK</td>\n",
       "      <td>HOU</td>\n",
       "      <td>8</td>\n",
       "      <td>78243-5202</td>\n",
       "      <td>9.05</td>\n",
       "    </tr>\n",
       "  </tbody>\n",
       "</table>\n",
       "<p>120 rows × 10 columns</p>\n",
       "</div>"
      ],
      "text/plain": [
       "                  Name            ID Position  Salary     Game Team Opponent  \\\n",
       "0     Justin Verlander    78243-5202        P   11100  OAK@HOU  HOU      OAK   \n",
       "1            Max Fried   78243-52185        P   10700  ATL@WSH  ATL      WSH   \n",
       "2        Logan Gilbert  78243-102396        P   10300  SEA@TEX  SEA      TEX   \n",
       "3          Dean Kremer  78243-102447        P    8900   BAL@TB  BAL       TB   \n",
       "4        Cal Quantrill   78243-79228        P    8500  DET@CLE  CLE      DET   \n",
       "..                 ...           ...      ...     ...      ...  ...      ...   \n",
       "115    Alcides Escobar    78243-5445       SS    2000  ATL@WSH  WSH      ATL   \n",
       "116      Luke Williams  78243-152972       2B    2000  PHI@MIA  MIA      PHI   \n",
       "117        Akil Baddoo   78243-82611       OF    2000  DET@CLE  DET      CLE   \n",
       "118  Robinson Chirinos   78243-12988     C/1B    2000   BAL@TB  BAL       TB   \n",
       "119      Dermis Garcia  78243-172997     C/1B    2000  OAK@HOU  OAK      HOU   \n",
       "\n",
       "     Order  Opp_Pitcher  Projection  \n",
       "0        0          NaN       43.05  \n",
       "1        0          NaN       30.79  \n",
       "2        0          NaN       32.41  \n",
       "3        0          NaN       21.71  \n",
       "4        0          NaN       30.05  \n",
       "..     ...          ...         ...  \n",
       "115      7  78243-52185        8.46  \n",
       "116      8  78243-83157       10.34  \n",
       "117      9  78243-79228        8.53  \n",
       "118      8  78243-68485        8.59  \n",
       "119      8   78243-5202        9.05  \n",
       "\n",
       "[120 rows x 10 columns]"
      ]
     },
     "execution_count": 13,
     "metadata": {},
     "output_type": "execute_result"
    }
   ],
   "source": [
    "slate[slate[\"Team\"].in([])]"
   ]
  },
  {
   "cell_type": "markdown",
   "id": "02c4858d",
   "metadata": {},
   "source": [
    "# Correlation"
   ]
  },
  {
   "cell_type": "code",
   "execution_count": 2,
   "id": "0eb793dd",
   "metadata": {},
   "outputs": [],
   "source": [
    "historical = pd.read_csv(\"./data/linestar_data.csv\")\n",
    "historical[\"Opposing Pitcher\"] = historical.loc[historical[\"Position\"] != \"P\", \"Opponent\"].str.split(\n",
    "    \",\", expand=True\n",
    ")[0]\n",
    "\n",
    "batters = historical[historical[\"Position\"] != \"P\"]\n",
    "order_scored = batters.groupby([\"Date\", \"Team\", \"Order\"]).sum()[\"Scored\"]\n",
    "batters_corr = order_scored.unstack().corr()\n",
    "\n",
    "pitchers = historical[historical[\"Position\"] == \"P\"]\n",
    "batters = batters.merge(\n",
    "    pitchers[[\"Name\", \"Date\", \"Scored\"]],\n",
    "    left_on=[\"Date\", \"Opposing Pitcher\"],\n",
    "    right_on=[\"Date\", \"Name\"],\n",
    "    how=\"left\",\n",
    "    suffixes=[None, \" Opposing\"],\n",
    ")\n",
    "pitchers_corr = batters[[\"Scored\", \"Scored Opposing\"]].corr()\n",
    "pitchers_corr = pitchers_corr.loc[\"Scored\", \"Scored Opposing\"]"
   ]
  },
  {
   "cell_type": "code",
   "execution_count": 3,
   "id": "517c76bf",
   "metadata": {},
   "outputs": [],
   "source": [
    "#slate = pd.read_csv(\"./data/TEST_SLATE.csv\")\n",
    "slate = pd.read_csv(\"./data/slate_2022-06-13.csv\")\n",
    "\n",
    "corr = pd.DataFrame(columns=slate[\"ID\"], index=slate[\"ID\"], dtype=float)\n",
    "\n",
    "for row in slate.itertuples():\n",
    "    # Correlation with themselves is 1\n",
    "    corr.loc[row.ID, row.ID] = 1\n",
    "\n",
    "    # If pitcher, set correlation to everyone else to 0\n",
    "    if row.Position == \"P\":\n",
    "        corr.loc[row.ID, corr.columns != row.ID] = 0\n",
    "\n",
    "    else:\n",
    "        # Setting correlation to other batters on the same team according to\n",
    "        # batting order\n",
    "        for teammate in slate.loc[slate[\"Team\"] == row.Team, :].itertuples():\n",
    "            # If the teammate is the pitcher, then 0 correlation\n",
    "            if teammate.Position == \"P\":\n",
    "                corr.loc[row.ID, teammate.ID] = 0\n",
    "                corr.loc[teammate.ID, row.ID] = 0\n",
    "            else:\n",
    "                order_corr = batters_corr.loc[row.Order, teammate.Order]\n",
    "                corr.loc[row.ID, teammate.ID] = order_corr\n",
    "                corr.loc[teammate.ID, row.ID] = order_corr\n",
    "\n",
    "        # Set correlation to opposing pitcher\n",
    "        corr.loc[row.ID, row.Opp_Pitcher] = pitchers_corr\n",
    "        corr.loc[row.Opp_Pitcher, row.ID] = pitchers_corr\n",
    "        # Correlations with every other Name is 0\n",
    "        corr.loc[row.ID, corr.loc[row.ID].isna()] = 0"
   ]
  },
  {
   "cell_type": "code",
   "execution_count": 4,
   "id": "49c5bc5a",
   "metadata": {},
   "outputs": [],
   "source": [
    "if not np.array_equal(corr, corr.T) & np.all(np.linalg.eigvals(corr) >= 0):\n",
    "    raise ValueError(\"Correlation matrix not positive semi-definite\")"
   ]
  },
  {
   "cell_type": "code",
   "execution_count": 5,
   "id": "273e69db",
   "metadata": {},
   "outputs": [],
   "source": [
    "corr.to_csv(\"./data/TEST_SLATE_corr.csv\", index=False, header=False)"
   ]
  },
  {
   "cell_type": "markdown",
   "id": "86515330",
   "metadata": {},
   "source": [
    "# Batting Stacks"
   ]
  },
  {
   "cell_type": "code",
   "execution_count": 10,
   "id": "bdcff19c",
   "metadata": {},
   "outputs": [],
   "source": [
    "data = pd.read_csv(\"./data/linestar_data.csv\")"
   ]
  },
  {
   "cell_type": "code",
   "execution_count": 117,
   "id": "fb75e0e4",
   "metadata": {},
   "outputs": [],
   "source": [
    "order = np.array(range(1, 10))\n",
    "\n",
    "stacks = []\n",
    "for x in range(9):\n",
    "    stacks.append(np.roll(order, x)[:4])"
   ]
  },
  {
   "cell_type": "code",
   "execution_count": 118,
   "id": "710d4db6",
   "metadata": {},
   "outputs": [],
   "source": [
    "stack_scores = {str(stack): [] for stack in stacks}"
   ]
  },
  {
   "cell_type": "code",
   "execution_count": 129,
   "id": "e2be8626",
   "metadata": {},
   "outputs": [],
   "source": [
    "def add_stack_scores(frame):\n",
    "    for stack in stacks:\n",
    "        try:\n",
    "            stack_score = 0\n",
    "            for order in stack:\n",
    "                stack_score += frame.loc[frame[\"Order\"] == order, \"Scored\"].iloc[0]\n",
    "        except:\n",
    "            continue\n",
    "        stack_scores[str(stack)].append(stack_score)\n",
    "    return \"DONE\""
   ]
  },
  {
   "cell_type": "code",
   "execution_count": 130,
   "id": "943efafd",
   "metadata": {},
   "outputs": [
    {
     "data": {
      "text/plain": [
       "Date        Team\n",
       "2021-06-01  ARI     DONE\n",
       "            ATL     DONE\n",
       "            BAL     DONE\n",
       "            BOS     DONE\n",
       "            CHC     DONE\n",
       "                    ... \n",
       "2022-05-24  SF      DONE\n",
       "            STL     DONE\n",
       "            TEX     DONE\n",
       "            TOR     DONE\n",
       "            WSH     DONE\n",
       "Length: 3012, dtype: object"
      ]
     },
     "execution_count": 130,
     "metadata": {},
     "output_type": "execute_result"
    }
   ],
   "source": [
    "data.groupby([\"Date\", \"Team\"]).apply(add_stack_scores)"
   ]
  },
  {
   "cell_type": "code",
   "execution_count": 131,
   "id": "44238b71",
   "metadata": {},
   "outputs": [
    {
     "data": {
      "text/plain": [
       "{'[1 2 3 4]': 42.23353892315386,\n",
       " '[9 1 2 3]': 37.05796505652621,\n",
       " '[8 9 1 2]': 33.807536650836255,\n",
       " '[7 8 9 1]': 31.471151465125875,\n",
       " '[6 7 8 9]': 29.412154354106477,\n",
       " '[5 6 7 8]': 33.28679973163367,\n",
       " '[4 5 6 7]': 35.88484140233722,\n",
       " '[3 4 5 6]': 38.70013324450366,\n",
       " '[2 3 4 5]': 40.5610657785179}"
      ]
     },
     "execution_count": 131,
     "metadata": {},
     "output_type": "execute_result"
    }
   ],
   "source": [
    "{stack: np.mean(scores) for stack, scores in stack_scores.items()}"
   ]
  },
  {
   "cell_type": "code",
   "execution_count": 132,
   "id": "ef3a45f5",
   "metadata": {},
   "outputs": [
    {
     "data": {
      "text/plain": [
       "{'[1 2 3 4]': 24.97278155575016,\n",
       " '[9 1 2 3]': 22.953305269307837,\n",
       " '[8 9 1 2]': 21.729417981269467,\n",
       " '[7 8 9 1]': 21.031638151550823,\n",
       " '[6 7 8 9]': 20.122761981252374,\n",
       " '[5 6 7 8]': 22.06418069248909,\n",
       " '[4 5 6 7]': 22.884343977167685,\n",
       " '[3 4 5 6]': 23.757624323710544,\n",
       " '[2 3 4 5]': 24.642707650125658}"
      ]
     },
     "execution_count": 132,
     "metadata": {},
     "output_type": "execute_result"
    }
   ],
   "source": [
    "{stack: np.std(scores) for stack, scores in stack_scores.items()}"
   ]
  },
  {
   "cell_type": "code",
   "execution_count": 133,
   "id": "3fdbdfea",
   "metadata": {
    "scrolled": true
   },
   "outputs": [
    {
     "data": {
      "text/plain": [
       "{'[1 2 3 4]': 5999,\n",
       " '[9 1 2 3]': 4865,\n",
       " '[8 9 1 2]': 4843,\n",
       " '[7 8 9 1]': 4846,\n",
       " '[6 7 8 9]': 4846,\n",
       " '[5 6 7 8]': 5962,\n",
       " '[4 5 6 7]': 5990,\n",
       " '[3 4 5 6]': 6004,\n",
       " '[2 3 4 5]': 6005}"
      ]
     },
     "execution_count": 133,
     "metadata": {},
     "output_type": "execute_result"
    }
   ],
   "source": [
    "{stack: len(scores) for stack, scores in stack_scores.items()}"
   ]
  },
  {
   "cell_type": "markdown",
   "id": "fab072ff",
   "metadata": {},
   "source": [
    "# Overlap Parameter"
   ]
  },
  {
   "cell_type": "code",
   "execution_count": 38,
   "id": "c27e8e7d",
   "metadata": {},
   "outputs": [],
   "source": [
    "lineups = pd.read_csv(\"tourny_lineups.csv\")\n",
    "slate = pd.read_csv(\"./data/realized_slates/slate_2022-06-22.csv\")\n",
    "\n",
    "scored = dict(zip(slate[\"ID\"], slate[\"Scored\"]))\n",
    "lineup_scores = lineups.replace(test).sum(axis=1)"
   ]
  },
  {
   "cell_type": "code",
   "execution_count": 39,
   "id": "b24aeee8",
   "metadata": {},
   "outputs": [
    {
     "name": "stdout",
     "output_type": "stream",
     "text": [
      "180.946\n",
      "18.02044428544695\n",
      "-0.48593432056923935\n",
      "0.7860646292452436\n",
      "220.79999999999998\n"
     ]
    }
   ],
   "source": [
    "# Overlap = 8\n",
    "print(lineup_scores.mean())\n",
    "print(lineup_scores.std())\n",
    "print(lineup_scores.skew())\n",
    "print(lineup_scores.kurtosis())\n",
    "print(lineup_scores.max())"
   ]
  },
  {
   "cell_type": "code",
   "execution_count": 37,
   "id": "6bf70b8d",
   "metadata": {},
   "outputs": [
    {
     "name": "stdout",
     "output_type": "stream",
     "text": [
      "176.68399999999997\n",
      "20.489831823694036\n",
      "0.13218600915342202\n",
      "-0.3371293293619333\n",
      "226.99999999999997\n"
     ]
    }
   ],
   "source": [
    "# Overlap = 7\n",
    "print(lineup_scores.mean())\n",
    "print(lineup_scores.std())\n",
    "print(lineup_scores.skew())\n",
    "print(lineup_scores.kurtosis())\n",
    "print(lineup_scores.max())"
   ]
  },
  {
   "cell_type": "code",
   "execution_count": 35,
   "id": "65dfedc0",
   "metadata": {},
   "outputs": [
    {
     "name": "stdout",
     "output_type": "stream",
     "text": [
      "170.17000000000004\n",
      "25.445878941432554\n",
      "0.3791952233409413\n",
      "-0.4655690837015731\n",
      "229.99999999999997\n"
     ]
    }
   ],
   "source": [
    "# Overlap = 6\n",
    "print(lineup_scores.mean())\n",
    "print(lineup_scores.std())\n",
    "print(lineup_scores.skew())\n",
    "print(lineup_scores.kurtosis())\n",
    "print(lineup_scores.max())"
   ]
  },
  {
   "cell_type": "code",
   "execution_count": 29,
   "id": "3d040aa1",
   "metadata": {},
   "outputs": [
    {
     "name": "stdout",
     "output_type": "stream",
     "text": [
      "161.442\n",
      "32.959220876961375\n",
      "-0.34578011914688167\n",
      "-0.12562100076414895\n",
      "217.2\n"
     ]
    }
   ],
   "source": [
    "# Overlap = 5\n",
    "print(lineup_scores.mean())\n",
    "print(lineup_scores.std())\n",
    "print(lineup_scores.skew())\n",
    "print(lineup_scores.kurtosis())\n",
    "print(lineup_scores.max())"
   ]
  },
  {
   "cell_type": "code",
   "execution_count": 31,
   "id": "80545cdc",
   "metadata": {},
   "outputs": [
    {
     "name": "stdout",
     "output_type": "stream",
     "text": [
      "125.22800000000005\n",
      "39.08247710069731\n",
      "0.05493739332039193\n",
      "-0.4667331851380667\n",
      "205.79999999999998\n"
     ]
    }
   ],
   "source": [
    "# Overlap = 3\n",
    "print(lineup_scores.mean())\n",
    "print(lineup_scores.std())\n",
    "print(lineup_scores.skew())\n",
    "print(lineup_scores.kurtosis())\n",
    "print(lineup_scores.max())"
   ]
  },
  {
   "cell_type": "code",
   "execution_count": 33,
   "id": "4c852d50",
   "metadata": {},
   "outputs": [
    {
     "name": "stdout",
     "output_type": "stream",
     "text": [
      "113.30599999999997\n",
      "36.2434760350334\n",
      "0.22648516948067596\n",
      "-0.0892277976670397\n",
      "198.39999999999998\n"
     ]
    }
   ],
   "source": [
    "# Overlap = 1\n",
    "print(lineup_scores.mean())\n",
    "print(lineup_scores.std())\n",
    "print(lineup_scores.skew())\n",
    "print(lineup_scores.kurtosis())\n",
    "print(lineup_scores.max())"
   ]
  },
  {
   "cell_type": "markdown",
   "id": "11ca1645",
   "metadata": {},
   "source": [
    "# Player Score Distribution"
   ]
  },
  {
   "cell_type": "code",
   "execution_count": 7,
   "id": "834ea3a2",
   "metadata": {},
   "outputs": [],
   "source": [
    "historical = pd.read_csv(\"./data/linestar_data.csv\")\n",
    "scores = historical[\"Scored\"]"
   ]
  },
  {
   "cell_type": "code",
   "execution_count": 10,
   "id": "e66e30e9",
   "metadata": {},
   "outputs": [
    {
     "data": {
      "text/plain": [
       "<AxesSubplot:>"
      ]
     },
     "execution_count": 10,
     "metadata": {},
     "output_type": "execute_result"
    },
    {
     "data": {
      "image/png": "[encoded data removed]",
      "text/plain": [
       "<Figure size 432x288 with 1 Axes>"
      ]
     },
     "metadata": {
      "needs_background": "light"
     },
     "output_type": "display_data"
    }
   ],
   "source": [
    "scores.hist(bins=25)"
   ]
  },
  {
   "cell_type": "code",
   "execution_count": null,
   "id": "267671ab",
   "metadata": {},
   "outputs": [],
   "source": []
  }
 ],
 "metadata": {
  "kernelspec": {
   "display_name": "Python 3 (ipykernel)",
   "language": "python",
   "name": "python3"
  },
  "language_info": {
   "codemirror_mode": {
    "name": "ipython",
    "version": 3
   },
   "file_extension": ".py",
   "mimetype": "text/x-python",
   "name": "python",
   "nbconvert_exporter": "python",
   "pygments_lexer": "ipython3",
   "version": "3.9.12"
  }
 },
 "nbformat": 4,
 "nbformat_minor": 5
}
