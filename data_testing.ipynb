{
 "cells": [
  {
   "cell_type": "code",
   "execution_count": 2,
   "id": "5737b96f",
   "metadata": {},
   "outputs": [],
   "source": [
    "import pandas as pd\n",
    "import numpy as np\n",
    "from difflib import get_close_matches\n",
    "from datetime import datetime"
   ]
  },
  {
   "cell_type": "markdown",
   "id": "b3392cb1",
   "metadata": {},
   "source": [
    "# Slate Data"
   ]
  },
  {
   "cell_type": "code",
   "execution_count": 79,
   "id": "2d9d2f45",
   "metadata": {},
   "outputs": [],
   "source": [
    "def opp_pitcher(x):\n",
    "    # If player is pitcher, return nothing\n",
    "    if x[\"Position\"] ==  \"P\":\n",
    "        return np.nan\n",
    "    \n",
    "    series = slate.loc[(slate[\"Team\"] == x[\"Opponent\"]) & (slate[\"Position\"] == \"P\"), \"Player\"]\n",
    "    if len(series) > 1:\n",
    "        raise ValueError(\"Multiple Opposing Pitchers identified. Data Issues.\")\n",
    "    else:\n",
    "        return series.iloc[0]"
   ]
  },
  {
   "cell_type": "code",
   "execution_count": null,
   "id": "72c49f08",
   "metadata": {},
   "outputs": [],
   "source": [
    "def close_matches(x, possible):\n",
    "    matches = get_close_matches(x, possible)\n",
    "    if matches:\n",
    "        return matches[0]\n",
    "    else:\n",
    "        return np.nan"
   ]
  },
  {
   "cell_type": "code",
   "execution_count": 93,
   "id": "76f88e60",
   "metadata": {},
   "outputs": [],
   "source": [
    "slate = pd.read_csv(\"./data/slate.csv\")\n",
    "\n",
    "proj = pd.concat([pd.read_csv(\"./data/proj_1.csv\"), pd.read_csv(\"./data/proj_2.csv\")])\n",
    "# Find closest name matches from slate\n",
    "proj[\"Player\"] = proj[\"Player\"].apply(lambda x: close_matches(x, slate[\"Nickname\"]))\n",
    "# Sometimes salary contains commas\n",
    "proj[\"Salary\"] = proj[\"Salary\"].str.replace(\",\", \"\")\n",
    "proj[\"Salary\"] = proj[\"Salary\"].astype(int)\n",
    "# Sometimes data is duplicated\n",
    "proj = proj.drop_duplicates(subset=[\"Player\", \"Pos\", \"Salary\"])\n",
    "proj = proj.dropna()\n",
    "\n",
    "# Merge projections with slated players\n",
    "slate = slate.merge(\n",
    "    proj,\n",
    "    left_on=[\"Nickname\", \"Position\", \"Salary\"],\n",
    "    right_on=[\"Player\", \"Pos\", \"Salary\"],\n",
    "    how=\"left\",\n",
    ")\n",
    "\n",
    "# Drop all pitchers that are not starting\n",
    "slate = slate.drop(slate.loc[(slate[\"Position\"] == \"P\") & (slate[\"Probable Pitcher\"].isna()), :].index)\n",
    "# BIG ASSUMPTION: assume player fills only first position listed.\n",
    "# Because of the UTIL slot, I assume this has only minimal impact\n",
    "# upon optimality\n",
    "slate[\"Position\"] = slate[\"Position\"].str.split(\"/\", expand=True)[0]\n",
    "# C and 1B players can fill the C/1B slot\n",
    "slate[\"Position\"] = slate[\"Position\"].replace({\"C\": \"C/1B\", \"1B\": \"C/1B\"})\n",
    "# Pitchers have batting order 0\n",
    "# Non-starting players also have batting order 0\n",
    "slate[\"Batting Order\"] = slate[\"Batting Order\"].replace(np.nan, 0)\n",
    "slate[\"Batting Order\"] = slate[\"Batting Order\"].astype(int)\n",
    "# Opposing Pitcher for each player\n",
    "slate[\"Opp_Pitcher\"] = slate.apply(opp_pitcher, axis=1)\n",
    "# Drop players with 0 fantasy points projected\n",
    "slate = slate[slate[\"Proj\"] > 0]\n",
    "\n",
    "# Select relevant columns and rename\n",
    "slate = slate[[\"Player\", \"Position\", \"Salary\", \"Game\", \"Team\", \"Opponent\", \"Batting Order\", \"Opp_Pitcher\", \"Proj\"]]\n",
    "slate.columns = [\"Name\", \"Position\", \"Salary\", \"Game\", \"Team\", \"Opponent\", \"Order\", \"Opp_Pitcher\", \"Projection\"]\n",
    "\n",
    "# Write to csv with todays date\n",
    "slate.to_csv(f\"./data/slate_{datetime.today().strftime('%Y-%m-%d')}.csv\", index=False)"
   ]
  },
  {
   "cell_type": "code",
   "execution_count": 94,
   "id": "4079c609",
   "metadata": {
    "scrolled": true
   },
   "outputs": [
    {
     "data": {
      "text/html": [
       "<div>\n",
       "<style scoped>\n",
       "    .dataframe tbody tr th:only-of-type {\n",
       "        vertical-align: middle;\n",
       "    }\n",
       "\n",
       "    .dataframe tbody tr th {\n",
       "        vertical-align: top;\n",
       "    }\n",
       "\n",
       "    .dataframe thead th {\n",
       "        text-align: right;\n",
       "    }\n",
       "</style>\n",
       "<table border=\"1\" class=\"dataframe\">\n",
       "  <thead>\n",
       "    <tr style=\"text-align: right;\">\n",
       "      <th></th>\n",
       "      <th>Name</th>\n",
       "      <th>Position</th>\n",
       "      <th>Salary</th>\n",
       "      <th>Game</th>\n",
       "      <th>Team</th>\n",
       "      <th>Opponent</th>\n",
       "      <th>Order</th>\n",
       "      <th>Opp_Pitcher</th>\n",
       "      <th>Projection</th>\n",
       "    </tr>\n",
       "  </thead>\n",
       "  <tbody>\n",
       "    <tr>\n",
       "      <th>5</th>\n",
       "      <td>Walker Buehler</td>\n",
       "      <td>P</td>\n",
       "      <td>10300</td>\n",
       "      <td>PIT@LAD</td>\n",
       "      <td>LAD</td>\n",
       "      <td>PIT</td>\n",
       "      <td>0</td>\n",
       "      <td>NaN</td>\n",
       "      <td>39.28</td>\n",
       "    </tr>\n",
       "    <tr>\n",
       "      <th>8</th>\n",
       "      <td>Zac Gallen</td>\n",
       "      <td>P</td>\n",
       "      <td>10100</td>\n",
       "      <td>ATL@ARI</td>\n",
       "      <td>ARI</td>\n",
       "      <td>ATL</td>\n",
       "      <td>0</td>\n",
       "      <td>NaN</td>\n",
       "      <td>29.21</td>\n",
       "    </tr>\n",
       "    <tr>\n",
       "      <th>21</th>\n",
       "      <td>Drew Rasmussen</td>\n",
       "      <td>P</td>\n",
       "      <td>8900</td>\n",
       "      <td>TB@TEX</td>\n",
       "      <td>TB</td>\n",
       "      <td>TEX</td>\n",
       "      <td>0</td>\n",
       "      <td>NaN</td>\n",
       "      <td>25.61</td>\n",
       "    </tr>\n",
       "    <tr>\n",
       "      <th>22</th>\n",
       "      <td>David Peterson</td>\n",
       "      <td>P</td>\n",
       "      <td>8700</td>\n",
       "      <td>WSH@NYM</td>\n",
       "      <td>NYM</td>\n",
       "      <td>WSH</td>\n",
       "      <td>0</td>\n",
       "      <td>NaN</td>\n",
       "      <td>26.28</td>\n",
       "    </tr>\n",
       "    <tr>\n",
       "      <th>37</th>\n",
       "      <td>Erick Fedde</td>\n",
       "      <td>P</td>\n",
       "      <td>8000</td>\n",
       "      <td>WSH@NYM</td>\n",
       "      <td>WSH</td>\n",
       "      <td>NYM</td>\n",
       "      <td>0</td>\n",
       "      <td>NaN</td>\n",
       "      <td>18.23</td>\n",
       "    </tr>\n",
       "    <tr>\n",
       "      <th>...</th>\n",
       "      <td>...</td>\n",
       "      <td>...</td>\n",
       "      <td>...</td>\n",
       "      <td>...</td>\n",
       "      <td>...</td>\n",
       "      <td>...</td>\n",
       "      <td>...</td>\n",
       "      <td>...</td>\n",
       "      <td>...</td>\n",
       "    </tr>\n",
       "    <tr>\n",
       "      <th>445</th>\n",
       "      <td>Tomas Nido</td>\n",
       "      <td>C/1B</td>\n",
       "      <td>2000</td>\n",
       "      <td>WSH@NYM</td>\n",
       "      <td>NYM</td>\n",
       "      <td>WSH</td>\n",
       "      <td>0</td>\n",
       "      <td>Erick Fedde</td>\n",
       "      <td>4.96</td>\n",
       "    </tr>\n",
       "    <tr>\n",
       "      <th>455</th>\n",
       "      <td>Chris Owings</td>\n",
       "      <td>SS</td>\n",
       "      <td>2000</td>\n",
       "      <td>BAL@BOS</td>\n",
       "      <td>BAL</td>\n",
       "      <td>BOS</td>\n",
       "      <td>0</td>\n",
       "      <td>Rich Hill</td>\n",
       "      <td>5.38</td>\n",
       "    </tr>\n",
       "    <tr>\n",
       "      <th>467</th>\n",
       "      <td>Michael Perez</td>\n",
       "      <td>C/1B</td>\n",
       "      <td>2000</td>\n",
       "      <td>PIT@LAD</td>\n",
       "      <td>PIT</td>\n",
       "      <td>LAD</td>\n",
       "      <td>0</td>\n",
       "      <td>Walker Buehler</td>\n",
       "      <td>3.67</td>\n",
       "    </tr>\n",
       "    <tr>\n",
       "      <th>479</th>\n",
       "      <td>Michael Harris II</td>\n",
       "      <td>OF</td>\n",
       "      <td>2000</td>\n",
       "      <td>ATL@ARI</td>\n",
       "      <td>ATL</td>\n",
       "      <td>ARI</td>\n",
       "      <td>0</td>\n",
       "      <td>Zac Gallen</td>\n",
       "      <td>5.59</td>\n",
       "    </tr>\n",
       "    <tr>\n",
       "      <th>498</th>\n",
       "      <td>Clint Frazier</td>\n",
       "      <td>OF</td>\n",
       "      <td>2000</td>\n",
       "      <td>MIL@CHC</td>\n",
       "      <td>CHC</td>\n",
       "      <td>MIL</td>\n",
       "      <td>0</td>\n",
       "      <td>Aaron Ashby</td>\n",
       "      <td>8.52</td>\n",
       "    </tr>\n",
       "  </tbody>\n",
       "</table>\n",
       "<p>131 rows × 9 columns</p>\n",
       "</div>"
      ],
      "text/plain": [
       "                  Name Position  Salary     Game Team Opponent  Order  \\\n",
       "5       Walker Buehler        P   10300  PIT@LAD  LAD      PIT      0   \n",
       "8           Zac Gallen        P   10100  ATL@ARI  ARI      ATL      0   \n",
       "21      Drew Rasmussen        P    8900   TB@TEX   TB      TEX      0   \n",
       "22      David Peterson        P    8700  WSH@NYM  NYM      WSH      0   \n",
       "37         Erick Fedde        P    8000  WSH@NYM  WSH      NYM      0   \n",
       "..                 ...      ...     ...      ...  ...      ...    ...   \n",
       "445         Tomas Nido     C/1B    2000  WSH@NYM  NYM      WSH      0   \n",
       "455       Chris Owings       SS    2000  BAL@BOS  BAL      BOS      0   \n",
       "467      Michael Perez     C/1B    2000  PIT@LAD  PIT      LAD      0   \n",
       "479  Michael Harris II       OF    2000  ATL@ARI  ATL      ARI      0   \n",
       "498      Clint Frazier       OF    2000  MIL@CHC  CHC      MIL      0   \n",
       "\n",
       "        Opp_Pitcher  Projection  \n",
       "5               NaN       39.28  \n",
       "8               NaN       29.21  \n",
       "21              NaN       25.61  \n",
       "22              NaN       26.28  \n",
       "37              NaN       18.23  \n",
       "..              ...         ...  \n",
       "445     Erick Fedde        4.96  \n",
       "455       Rich Hill        5.38  \n",
       "467  Walker Buehler        3.67  \n",
       "479      Zac Gallen        5.59  \n",
       "498     Aaron Ashby        8.52  \n",
       "\n",
       "[131 rows x 9 columns]"
      ]
     },
     "execution_count": 94,
     "metadata": {},
     "output_type": "execute_result"
    }
   ],
   "source": [
    "slate"
   ]
  },
  {
   "cell_type": "markdown",
   "id": "02c4858d",
   "metadata": {},
   "source": [
    "# Covariance"
   ]
  },
  {
   "cell_type": "markdown",
   "id": "86515330",
   "metadata": {},
   "source": [
    "# Batting Stacks"
   ]
  },
  {
   "cell_type": "code",
   "execution_count": 10,
   "id": "bdcff19c",
   "metadata": {},
   "outputs": [],
   "source": [
    "data = pd.read_csv(\"./data/linestar_data.csv\")"
   ]
  },
  {
   "cell_type": "code",
   "execution_count": 117,
   "id": "fb75e0e4",
   "metadata": {},
   "outputs": [],
   "source": [
    "order = np.array(range(1, 10))\n",
    "\n",
    "stacks = []\n",
    "for x in range(9):\n",
    "    stacks.append(np.roll(order, x)[:4])"
   ]
  },
  {
   "cell_type": "code",
   "execution_count": 118,
   "id": "710d4db6",
   "metadata": {},
   "outputs": [],
   "source": [
    "stack_scores = {str(stack): [] for stack in stacks}"
   ]
  },
  {
   "cell_type": "code",
   "execution_count": 129,
   "id": "e2be8626",
   "metadata": {},
   "outputs": [],
   "source": [
    "def add_stack_scores(frame):\n",
    "    for stack in stacks:\n",
    "        try:\n",
    "            stack_score = 0\n",
    "            for order in stack:\n",
    "                stack_score += frame.loc[frame[\"Order\"] == order, \"Scored\"].iloc[0]\n",
    "        except:\n",
    "            continue\n",
    "        stack_scores[str(stack)].append(stack_score)\n",
    "    return \"DONE\""
   ]
  },
  {
   "cell_type": "code",
   "execution_count": 130,
   "id": "943efafd",
   "metadata": {},
   "outputs": [
    {
     "data": {
      "text/plain": [
       "Date        Team\n",
       "2021-06-01  ARI     DONE\n",
       "            ATL     DONE\n",
       "            BAL     DONE\n",
       "            BOS     DONE\n",
       "            CHC     DONE\n",
       "                    ... \n",
       "2022-05-24  SF      DONE\n",
       "            STL     DONE\n",
       "            TEX     DONE\n",
       "            TOR     DONE\n",
       "            WSH     DONE\n",
       "Length: 3012, dtype: object"
      ]
     },
     "execution_count": 130,
     "metadata": {},
     "output_type": "execute_result"
    }
   ],
   "source": [
    "data.groupby([\"Date\", \"Team\"]).apply(add_stack_scores)"
   ]
  },
  {
   "cell_type": "code",
   "execution_count": 131,
   "id": "44238b71",
   "metadata": {},
   "outputs": [
    {
     "data": {
      "text/plain": [
       "{'[1 2 3 4]': 42.23353892315386,\n",
       " '[9 1 2 3]': 37.05796505652621,\n",
       " '[8 9 1 2]': 33.807536650836255,\n",
       " '[7 8 9 1]': 31.471151465125875,\n",
       " '[6 7 8 9]': 29.412154354106477,\n",
       " '[5 6 7 8]': 33.28679973163367,\n",
       " '[4 5 6 7]': 35.88484140233722,\n",
       " '[3 4 5 6]': 38.70013324450366,\n",
       " '[2 3 4 5]': 40.5610657785179}"
      ]
     },
     "execution_count": 131,
     "metadata": {},
     "output_type": "execute_result"
    }
   ],
   "source": [
    "{stack: np.mean(scores) for stack, scores in stack_scores.items()}"
   ]
  },
  {
   "cell_type": "code",
   "execution_count": 132,
   "id": "ef3a45f5",
   "metadata": {},
   "outputs": [
    {
     "data": {
      "text/plain": [
       "{'[1 2 3 4]': 24.97278155575016,\n",
       " '[9 1 2 3]': 22.953305269307837,\n",
       " '[8 9 1 2]': 21.729417981269467,\n",
       " '[7 8 9 1]': 21.031638151550823,\n",
       " '[6 7 8 9]': 20.122761981252374,\n",
       " '[5 6 7 8]': 22.06418069248909,\n",
       " '[4 5 6 7]': 22.884343977167685,\n",
       " '[3 4 5 6]': 23.757624323710544,\n",
       " '[2 3 4 5]': 24.642707650125658}"
      ]
     },
     "execution_count": 132,
     "metadata": {},
     "output_type": "execute_result"
    }
   ],
   "source": [
    "{stack: np.std(scores) for stack, scores in stack_scores.items()}"
   ]
  },
  {
   "cell_type": "code",
   "execution_count": 133,
   "id": "3fdbdfea",
   "metadata": {
    "scrolled": true
   },
   "outputs": [
    {
     "data": {
      "text/plain": [
       "{'[1 2 3 4]': 5999,\n",
       " '[9 1 2 3]': 4865,\n",
       " '[8 9 1 2]': 4843,\n",
       " '[7 8 9 1]': 4846,\n",
       " '[6 7 8 9]': 4846,\n",
       " '[5 6 7 8]': 5962,\n",
       " '[4 5 6 7]': 5990,\n",
       " '[3 4 5 6]': 6004,\n",
       " '[2 3 4 5]': 6005}"
      ]
     },
     "execution_count": 133,
     "metadata": {},
     "output_type": "execute_result"
    }
   ],
   "source": [
    "{stack: len(scores) for stack, scores in stack_scores.items()}"
   ]
  },
  {
   "cell_type": "code",
   "execution_count": null,
   "id": "d272e401",
   "metadata": {},
   "outputs": [],
   "source": []
  }
 ],
 "metadata": {
  "kernelspec": {
   "display_name": "Python 3 (ipykernel)",
   "language": "python",
   "name": "python3"
  },
  "language_info": {
   "codemirror_mode": {
    "name": "ipython",
    "version": 3
   },
   "file_extension": ".py",
   "mimetype": "text/x-python",
   "name": "python",
   "nbconvert_exporter": "python",
   "pygments_lexer": "ipython3",
   "version": "3.9.12"
  }
 },
 "nbformat": 4,
 "nbformat_minor": 5
}
